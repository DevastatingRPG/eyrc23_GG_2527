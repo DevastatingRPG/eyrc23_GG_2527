{
 "cells": [
  {
   "cell_type": "code",
   "execution_count": 13,
   "metadata": {},
   "outputs": [],
   "source": [
    "import cv2\n",
    "import numpy as np\n",
    "import matplotlib.pyplot as plt\n",
    "\n",
    "# Load an image from file\n",
    "image = cv2.imread('combatedge.png', cv2.IMREAD_GRAYSCALE)\n",
    "image_resized = cv2.resize(image, (500, 500))\n",
    "\n",
    "# Apply GaussianBlur to the image to reduce noise and help with edge detection\n",
    "# blurred = cv2.GaussianBlur(image, (5, 5), 0)\n",
    "\n",
    "# Use the Canny edge detector\n",
    "edges = cv2.Canny(image_resized, 50, 10)\n",
    "\n",
    "# Display the original image and the result\n",
    "cv2.imshow(\"Edging\",edges)\n",
    "cv2.imshow(\"Original\", image)\n",
    "cv2.waitKey(0)\n",
    "cv2.destroyAllWindows()"
   ]
  }
 ],
 "metadata": {
  "kernelspec": {
   "display_name": "GG_2527",
   "language": "python",
   "name": "gg_2527"
  },
  "language_info": {
   "codemirror_mode": {
    "name": "ipython",
    "version": 3
   },
   "file_extension": ".py",
   "mimetype": "text/x-python",
   "name": "python",
   "nbconvert_exporter": "python",
   "pygments_lexer": "ipython3",
   "version": "3.9.18"
  }
 },
 "nbformat": 4,
 "nbformat_minor": 2
}
