{
  "cells": [
    {
      "cell_type": "code",
      "execution_count": 8,
      "id": "64d011ea",
      "metadata": {
        "id": "64d011ea"
      },
      "outputs": [],
      "source": [
        "from pathlib import Path\n",
        "\n",
        "data_path = Path(\"data/\")\n",
        "image_path = data_path / \"events\"\n",
        "train_dir = image_path / \"train_scaled\"\n",
        "test_dir = image_path / \"test_scaled\"\n",
        "\n",
        "train_dir, test_dir\n",
        "output_dir = 'output'"
      ]
    },
    {
      "cell_type": "code",
      "execution_count": 9,
      "id": "06b176d7",
      "metadata": {
        "id": "06b176d7"
      },
      "outputs": [],
      "source": [
        "\n",
        "import torch\n",
        "torch.cuda.empty_cache()\n",
        "torch.manual_seed(42)\n",
        "torch.cuda.manual_seed(42)"
      ]
    },
    {
      "cell_type": "code",
      "execution_count": 10,
      "id": "1e1c7cfe",
      "metadata": {
        "id": "1e1c7cfe"
      },
      "outputs": [],
      "source": [
        "if torch.cuda.is_available():\n",
        "    dev = \"cuda:0\"\n",
        "else:\n",
        "    dev = \"cpu\"\n",
        "device = torch.device(dev)"
      ]
    },
    {
      "cell_type": "code",
      "execution_count": null,
      "id": "X89k-xvjyUoM",
      "metadata": {
        "id": "X89k-xvjyUoM"
      },
      "outputs": [],
      "source": []
    },
    {
      "cell_type": "code",
      "execution_count": 11,
      "id": "kPX4ZXfwyUoN",
      "metadata": {
        "id": "kPX4ZXfwyUoN"
      },
      "outputs": [],
      "source": [
        "import matplotlib.pyplot as plt\n",
        "import torch\n",
        "\n",
        "from torch import nn\n",
        "from torchvision import transforms\n",
        "\n",
        "from torchvision.models import EfficientNet_V2_S_Weights, efficientnet_v2_s\n",
        "from torchvision.models import ResNet152_Weights, resnet152\n",
        "\n",
        "weights = EfficientNet_V2_S_Weights.DEFAULT\n",
        "model = efficientnet_v2_s(weights=weights).to(device)\n",
        "# weights = ResNet152_Weights.DEFAULT\n",
        "# model = resnet152(weights=weights).to(device)\n",
        "\n"
      ]
    },
    {
      "cell_type": "code",
      "execution_count": 12,
      "id": "ghZkD_PDKNqf",
      "metadata": {
        "colab": {
          "base_uri": "https://localhost:8080/"
        },
        "id": "ghZkD_PDKNqf",
        "outputId": "ceb9b3ee-500d-4402-c815-af5bbce8ee12"
      },
      "outputs": [
        {
          "data": {
            "text/plain": [
              "ImageClassification(\n",
              "    crop_size=[384]\n",
              "    resize_size=[384]\n",
              "    mean=[0.485, 0.456, 0.406]\n",
              "    std=[0.229, 0.224, 0.225]\n",
              "    interpolation=InterpolationMode.BILINEAR\n",
              ")"
            ]
          },
          "execution_count": 12,
          "metadata": {},
          "output_type": "execute_result"
        }
      ],
      "source": [
        "weights.transforms()"
      ]
    },
    {
      "cell_type": "code",
      "execution_count": 13,
      "id": "82be5dd9",
      "metadata": {
        "id": "82be5dd9"
      },
      "outputs": [],
      "source": [
        "auto_transforms = weights.transforms()\n",
        "train_transform = transforms.Compose([\n",
        "    transforms.RandomResizedCrop(224),\n",
        "    transforms.RandomHorizontalFlip(),\n",
        "    transforms.ToTensor(),\n",
        "    transforms.Normalize(mean=[0.485, 0.456, 0.406], std=[0.229, 0.224, 0.225]),\n",
        "])\n",
        "\n",
        "val_transform = transforms.Compose([\n",
        "    transforms.Resize(256),\n",
        "    transforms.CenterCrop(224),\n",
        "    transforms.ToTensor(),\n",
        "    transforms.Normalize(mean=[0.485, 0.456, 0.406], std=[0.229, 0.224, 0.225]),\n",
        "])\n",
        "\n",
        "transform = transforms.Compose([\n",
        "    # Resize the input image to a square of size 224x224\n",
        "    transforms.Resize((428, 428)),\n",
        "\n",
        "    # Apply a random horizontal flip to augment the data\n",
        "    transforms.RandomHorizontalFlip(),\n",
        "\n",
        "    # Convert the image to a PyTorch tensor\n",
        "    transforms.ToTensor(),\n",
        "\n",
        "    # Normalize the image with mean and standard deviation values\n",
        "    # These values are typical for the ImageNet dataset, but you might\n",
        "    # need to adjust them based on your specific dataset\n",
        "    transforms.Normalize(mean=[0.485, 0.456, 0.406], std=[0.229, 0.224, 0.225])\n",
        "])\n"
      ]
    },
    {
      "cell_type": "code",
      "execution_count": 14,
      "id": "77ae1e0f",
      "metadata": {
        "id": "77ae1e0f"
      },
      "outputs": [],
      "source": [
        "from torchvision import datasets\n",
        "train_data = datasets.ImageFolder(root=train_dir, # target folder of images\n",
        "                                  transform=auto_transforms, # transforms to perform on data (images)\n",
        "                                  target_transform=None) # transforms to perform on labels (if necessary)\n",
        "test_data = datasets.ImageFolder(root=test_dir,\n",
        "                                 transform=auto_transforms)\n",
        "# train_data = datasets.ImageFolder(root=train_dir, # target folder of images\n",
        "#                                   transform=train_transform, # transforms to perform on data (images)\n",
        "#                                   target_transform=None) # transforms to perform on labels (if necessary)\n",
        "# test_data = datasets.ImageFolder(root=test_dir,\n",
        "#                                  transform=val_transform)\n"
      ]
    },
    {
      "cell_type": "code",
      "execution_count": 15,
      "id": "e2b56870",
      "metadata": {
        "colab": {
          "base_uri": "https://localhost:8080/"
        },
        "id": "e2b56870",
        "outputId": "63f1e2c0-7dd0-48bf-84a7-fa79c0d4b977"
      },
      "outputs": [
        {
          "data": {
            "text/plain": [
              "['Combat',\n",
              " 'DestroyedBuildings',\n",
              " 'Fire',\n",
              " 'Humanitarian Aid and rehabilitation',\n",
              " 'Military vehicles and weapons']"
            ]
          },
          "execution_count": 15,
          "metadata": {},
          "output_type": "execute_result"
        }
      ],
      "source": [
        "\n",
        "class_names = train_data.classes\n",
        "class_names"
      ]
    },
    {
      "cell_type": "code",
      "execution_count": 16,
      "id": "35364600",
      "metadata": {
        "id": "35364600"
      },
      "outputs": [],
      "source": [
        "from torch.utils.data import DataLoader\n",
        "train_dataloader = DataLoader(dataset=train_data, batch_size=16, shuffle=True)\n",
        "test_dataloader = DataLoader(dataset=test_data, batch_size=16,shuffle=False)"
      ]
    },
    {
      "cell_type": "code",
      "execution_count": 17,
      "id": "ff224bbf",
      "metadata": {
        "id": "ff224bbf"
      },
      "outputs": [],
      "source": [
        "# Get the length of class_names (one output unit for each class)\n",
        "output_shape = len(class_names)\n",
        "# torch.autograd.set_detect_anomaly(True)\n",
        "# Recreate the classifier layer and seed it to the target device\n",
        "\n",
        "model.classifier = torch.nn.Sequential(\n",
        "    nn.Dropout(p=0.2, inplace=True),\n",
        "    nn.Linear(in_features=1280, out_features=output_shape, bias=True),\n",
        "    # nn.ReLU6(),\n",
        ").to(device)"
      ]
    },
    {
      "cell_type": "code",
      "execution_count": 18,
      "id": "03aae9a6",
      "metadata": {
        "id": "03aae9a6"
      },
      "outputs": [],
      "source": [
        "from torch import nn\n",
        "loss_fn = nn.CrossEntropyLoss(label_smoothing=0.1) # this is also called \"criterion\"/\"cost function\" in some places\n",
        "# optimizer = torch.optim.RMSprop(params=model.parameters(), lr=0.01)\n",
        "optimizer = torch.optim.SGD(model.parameters(), lr=0.005, momentum=0.9)"
      ]
    },
    {
      "cell_type": "code",
      "execution_count": 19,
      "id": "CrKNnl8eyUoP",
      "metadata": {
        "id": "CrKNnl8eyUoP"
      },
      "outputs": [],
      "source": [
        "torch.cuda.set_device(0)"
      ]
    },
    {
      "cell_type": "code",
      "execution_count": 20,
      "id": "c4Y_Q5LGyUoP",
      "metadata": {
        "colab": {
          "base_uri": "https://localhost:8080/"
        },
        "id": "c4Y_Q5LGyUoP",
        "outputId": "eb0c6d2c-9aaf-491b-c6f4-3b616f331255"
      },
      "outputs": [
        {
          "data": {
            "text/plain": [
              "True"
            ]
          },
          "execution_count": 20,
          "metadata": {},
          "output_type": "execute_result"
        }
      ],
      "source": [
        "next(model.parameters()).is_cuda"
      ]
    },
    {
      "cell_type": "code",
      "execution_count": 21,
      "id": "27349936",
      "metadata": {
        "colab": {
          "base_uri": "https://localhost:8080/",
          "height": 327,
          "referenced_widgets": [
            "2087bf96c5b14b138c069f1feb22e5fe",
            "491ecc2e1bc74e46a7c398de4ee4c454",
            "05be964aace84c6e8aca24ca82e3895e",
            "b26ce8c2ed9e498e97a65ed133a78224",
            "44ba6211b21146c4b711219ff77a4b16",
            "be9688dc65934101af23a056719a02e4",
            "6122c053d8ce4da4bb8b4d6f357f5905",
            "e6ba7c2c596344b0b83e176ba504b8a9",
            "b43e939552ea4c829a0dcfaaf2cb5b83",
            "21fadadb2f6040a6a64445998c8b653e",
            "368c40221a4944cbbb9265d6fdf1a368"
          ]
        },
        "id": "27349936",
        "outputId": "df05e48b-fe89-4440-aa93-d1a352375fd8"
      },
      "outputs": [
        {
          "data": {
            "application/vnd.jupyter.widget-view+json": {
              "model_id": "8fe2b06430084132a4570c51a81eaf2e",
              "version_major": 2,
              "version_minor": 0
            },
            "text/plain": [
              "  0%|          | 0/15 [00:00<?, ?it/s]"
            ]
          },
          "metadata": {},
          "output_type": "display_data"
        },
        {
          "name": "stdout",
          "output_type": "stream",
          "text": [
            "Epoch: 1 | train_loss: 1.4348 | train_acc: 0.5000 | test_loss: 1.0746 | test_acc: 0.8625\n",
            "Epoch: 2 | train_loss: 0.7942 | train_acc: 0.8812 | test_loss: 0.6058 | test_acc: 0.9125\n",
            "Epoch: 3 | train_loss: 0.5580 | train_acc: 0.9344 | test_loss: 0.5324 | test_acc: 0.9250\n",
            "Epoch: 4 | train_loss: 0.4700 | train_acc: 0.9812 | test_loss: 0.5331 | test_acc: 0.9250\n",
            "Epoch: 5 | train_loss: 0.4524 | train_acc: 0.9938 | test_loss: 0.5282 | test_acc: 0.9500\n",
            "Epoch: 6 | train_loss: 0.4479 | train_acc: 0.9969 | test_loss: 0.5173 | test_acc: 0.9625\n",
            "Epoch: 7 | train_loss: 0.4377 | train_acc: 0.9906 | test_loss: 0.5127 | test_acc: 0.9375\n",
            "Epoch: 8 | train_loss: 0.4386 | train_acc: 0.9969 | test_loss: 0.4979 | test_acc: 0.9750\n",
            "Epoch: 9 | train_loss: 0.4342 | train_acc: 0.9969 | test_loss: 0.4980 | test_acc: 0.9500\n",
            "Epoch: 10 | train_loss: 0.4155 | train_acc: 1.0000 | test_loss: 0.5112 | test_acc: 0.9625\n",
            "Epoch: 11 | train_loss: 0.4227 | train_acc: 1.0000 | test_loss: 0.4880 | test_acc: 0.9625\n",
            "Epoch: 12 | train_loss: 0.4132 | train_acc: 1.0000 | test_loss: 0.4976 | test_acc: 0.9625\n",
            "Epoch: 13 | train_loss: 0.4173 | train_acc: 1.0000 | test_loss: 0.5123 | test_acc: 0.9500\n",
            "Epoch: 14 | train_loss: 0.4098 | train_acc: 1.0000 | test_loss: 0.4853 | test_acc: 0.9750\n",
            "Epoch: 15 | train_loss: 0.4215 | train_acc: 1.0000 | test_loss: 0.4826 | test_acc: 0.9875\n",
            "[INFO] Total training time: 5890.937 seconds\n"
          ]
        }
      ],
      "source": [
        "# Set the random seeds\n",
        "try:\n",
        "    from going_modular.going_modular import engine\n",
        "except:\n",
        "    # Get the going_modular scripts\n",
        "    print(\"[INFO] Couldn't find going_modular scripts... downloading them from GitHub.\")\n",
        "    !git clone https://github.com/mrdbourke/pytorch-deep-learning\n",
        "    !move pytorch-deep-learning\\going_modular .\n",
        "    !rmdir /s /q pytorch-deep-learning\n",
        "    from going_modular.going_modular import engine\n",
        "\n",
        "# Start the timer\n",
        "from timeit import default_timer as timer\n",
        "start_time = timer()\n",
        "\n",
        "# Setup training and save the results\n",
        "results = engine.train(model=model,\n",
        "                       train_dataloader=train_dataloader,\n",
        "                       test_dataloader=test_dataloader,\n",
        "                       optimizer=optimizer,\n",
        "                       loss_fn=loss_fn,\n",
        "                       epochs=15,\n",
        "                       device=device)\n",
        "\n",
        "# End the timer and print out how long it took\n",
        "end_time = timer()\n",
        "print(f\"[INFO] Total training time: {end_time-start_time:.3f} seconds\")\n"
      ]
    },
    {
      "cell_type": "code",
      "execution_count": 22,
      "id": "833edaa7",
      "metadata": {
        "id": "833edaa7"
      },
      "outputs": [],
      "source": [
        "torch.save(model, 'model.tf')\n",
        "torch.save(model.state_dict(), 'weights.tf')"
      ]
    }
  ],
  "metadata": {
    "accelerator": "GPU",
    "colab": {
      "gpuType": "T4",
      "provenance": []
    },
    "kernelspec": {
      "display_name": "GG_2527",
      "language": "python",
      "name": "gg_2527"
    },
    "language_info": {
      "codemirror_mode": {
        "name": "ipython",
        "version": 3
      },
      "file_extension": ".py",
      "mimetype": "text/x-python",
      "name": "python",
      "nbconvert_exporter": "python",
      "pygments_lexer": "ipython3",
      "version": "3.9.18"
    },
    "widgets": {
      "application/vnd.jupyter.widget-state+json": {
        "05be964aace84c6e8aca24ca82e3895e": {
          "model_module": "@jupyter-widgets/controls",
          "model_module_version": "1.5.0",
          "model_name": "FloatProgressModel",
          "state": {
            "_dom_classes": [],
            "_model_module": "@jupyter-widgets/controls",
            "_model_module_version": "1.5.0",
            "_model_name": "FloatProgressModel",
            "_view_count": null,
            "_view_module": "@jupyter-widgets/controls",
            "_view_module_version": "1.5.0",
            "_view_name": "ProgressView",
            "bar_style": "success",
            "description": "",
            "description_tooltip": null,
            "layout": "IPY_MODEL_e6ba7c2c596344b0b83e176ba504b8a9",
            "max": 15,
            "min": 0,
            "orientation": "horizontal",
            "style": "IPY_MODEL_b43e939552ea4c829a0dcfaaf2cb5b83",
            "value": 15
          }
        },
        "2087bf96c5b14b138c069f1feb22e5fe": {
          "model_module": "@jupyter-widgets/controls",
          "model_module_version": "1.5.0",
          "model_name": "HBoxModel",
          "state": {
            "_dom_classes": [],
            "_model_module": "@jupyter-widgets/controls",
            "_model_module_version": "1.5.0",
            "_model_name": "HBoxModel",
            "_view_count": null,
            "_view_module": "@jupyter-widgets/controls",
            "_view_module_version": "1.5.0",
            "_view_name": "HBoxView",
            "box_style": "",
            "children": [
              "IPY_MODEL_491ecc2e1bc74e46a7c398de4ee4c454",
              "IPY_MODEL_05be964aace84c6e8aca24ca82e3895e",
              "IPY_MODEL_b26ce8c2ed9e498e97a65ed133a78224"
            ],
            "layout": "IPY_MODEL_44ba6211b21146c4b711219ff77a4b16"
          }
        },
        "21fadadb2f6040a6a64445998c8b653e": {
          "model_module": "@jupyter-widgets/base",
          "model_module_version": "1.2.0",
          "model_name": "LayoutModel",
          "state": {
            "_model_module": "@jupyter-widgets/base",
            "_model_module_version": "1.2.0",
            "_model_name": "LayoutModel",
            "_view_count": null,
            "_view_module": "@jupyter-widgets/base",
            "_view_module_version": "1.2.0",
            "_view_name": "LayoutView",
            "align_content": null,
            "align_items": null,
            "align_self": null,
            "border": null,
            "bottom": null,
            "display": null,
            "flex": null,
            "flex_flow": null,
            "grid_area": null,
            "grid_auto_columns": null,
            "grid_auto_flow": null,
            "grid_auto_rows": null,
            "grid_column": null,
            "grid_gap": null,
            "grid_row": null,
            "grid_template_areas": null,
            "grid_template_columns": null,
            "grid_template_rows": null,
            "height": null,
            "justify_content": null,
            "justify_items": null,
            "left": null,
            "margin": null,
            "max_height": null,
            "max_width": null,
            "min_height": null,
            "min_width": null,
            "object_fit": null,
            "object_position": null,
            "order": null,
            "overflow": null,
            "overflow_x": null,
            "overflow_y": null,
            "padding": null,
            "right": null,
            "top": null,
            "visibility": null,
            "width": null
          }
        },
        "368c40221a4944cbbb9265d6fdf1a368": {
          "model_module": "@jupyter-widgets/controls",
          "model_module_version": "1.5.0",
          "model_name": "DescriptionStyleModel",
          "state": {
            "_model_module": "@jupyter-widgets/controls",
            "_model_module_version": "1.5.0",
            "_model_name": "DescriptionStyleModel",
            "_view_count": null,
            "_view_module": "@jupyter-widgets/base",
            "_view_module_version": "1.2.0",
            "_view_name": "StyleView",
            "description_width": ""
          }
        },
        "44ba6211b21146c4b711219ff77a4b16": {
          "model_module": "@jupyter-widgets/base",
          "model_module_version": "1.2.0",
          "model_name": "LayoutModel",
          "state": {
            "_model_module": "@jupyter-widgets/base",
            "_model_module_version": "1.2.0",
            "_model_name": "LayoutModel",
            "_view_count": null,
            "_view_module": "@jupyter-widgets/base",
            "_view_module_version": "1.2.0",
            "_view_name": "LayoutView",
            "align_content": null,
            "align_items": null,
            "align_self": null,
            "border": null,
            "bottom": null,
            "display": null,
            "flex": null,
            "flex_flow": null,
            "grid_area": null,
            "grid_auto_columns": null,
            "grid_auto_flow": null,
            "grid_auto_rows": null,
            "grid_column": null,
            "grid_gap": null,
            "grid_row": null,
            "grid_template_areas": null,
            "grid_template_columns": null,
            "grid_template_rows": null,
            "height": null,
            "justify_content": null,
            "justify_items": null,
            "left": null,
            "margin": null,
            "max_height": null,
            "max_width": null,
            "min_height": null,
            "min_width": null,
            "object_fit": null,
            "object_position": null,
            "order": null,
            "overflow": null,
            "overflow_x": null,
            "overflow_y": null,
            "padding": null,
            "right": null,
            "top": null,
            "visibility": null,
            "width": null
          }
        },
        "491ecc2e1bc74e46a7c398de4ee4c454": {
          "model_module": "@jupyter-widgets/controls",
          "model_module_version": "1.5.0",
          "model_name": "HTMLModel",
          "state": {
            "_dom_classes": [],
            "_model_module": "@jupyter-widgets/controls",
            "_model_module_version": "1.5.0",
            "_model_name": "HTMLModel",
            "_view_count": null,
            "_view_module": "@jupyter-widgets/controls",
            "_view_module_version": "1.5.0",
            "_view_name": "HTMLView",
            "description": "",
            "description_tooltip": null,
            "layout": "IPY_MODEL_be9688dc65934101af23a056719a02e4",
            "placeholder": "​",
            "style": "IPY_MODEL_6122c053d8ce4da4bb8b4d6f357f5905",
            "value": "100%"
          }
        },
        "6122c053d8ce4da4bb8b4d6f357f5905": {
          "model_module": "@jupyter-widgets/controls",
          "model_module_version": "1.5.0",
          "model_name": "DescriptionStyleModel",
          "state": {
            "_model_module": "@jupyter-widgets/controls",
            "_model_module_version": "1.5.0",
            "_model_name": "DescriptionStyleModel",
            "_view_count": null,
            "_view_module": "@jupyter-widgets/base",
            "_view_module_version": "1.2.0",
            "_view_name": "StyleView",
            "description_width": ""
          }
        },
        "b26ce8c2ed9e498e97a65ed133a78224": {
          "model_module": "@jupyter-widgets/controls",
          "model_module_version": "1.5.0",
          "model_name": "HTMLModel",
          "state": {
            "_dom_classes": [],
            "_model_module": "@jupyter-widgets/controls",
            "_model_module_version": "1.5.0",
            "_model_name": "HTMLModel",
            "_view_count": null,
            "_view_module": "@jupyter-widgets/controls",
            "_view_module_version": "1.5.0",
            "_view_name": "HTMLView",
            "description": "",
            "description_tooltip": null,
            "layout": "IPY_MODEL_21fadadb2f6040a6a64445998c8b653e",
            "placeholder": "​",
            "style": "IPY_MODEL_368c40221a4944cbbb9265d6fdf1a368",
            "value": " 15/15 [07:30&lt;00:00, 21.42s/it]"
          }
        },
        "b43e939552ea4c829a0dcfaaf2cb5b83": {
          "model_module": "@jupyter-widgets/controls",
          "model_module_version": "1.5.0",
          "model_name": "ProgressStyleModel",
          "state": {
            "_model_module": "@jupyter-widgets/controls",
            "_model_module_version": "1.5.0",
            "_model_name": "ProgressStyleModel",
            "_view_count": null,
            "_view_module": "@jupyter-widgets/base",
            "_view_module_version": "1.2.0",
            "_view_name": "StyleView",
            "bar_color": null,
            "description_width": ""
          }
        },
        "be9688dc65934101af23a056719a02e4": {
          "model_module": "@jupyter-widgets/base",
          "model_module_version": "1.2.0",
          "model_name": "LayoutModel",
          "state": {
            "_model_module": "@jupyter-widgets/base",
            "_model_module_version": "1.2.0",
            "_model_name": "LayoutModel",
            "_view_count": null,
            "_view_module": "@jupyter-widgets/base",
            "_view_module_version": "1.2.0",
            "_view_name": "LayoutView",
            "align_content": null,
            "align_items": null,
            "align_self": null,
            "border": null,
            "bottom": null,
            "display": null,
            "flex": null,
            "flex_flow": null,
            "grid_area": null,
            "grid_auto_columns": null,
            "grid_auto_flow": null,
            "grid_auto_rows": null,
            "grid_column": null,
            "grid_gap": null,
            "grid_row": null,
            "grid_template_areas": null,
            "grid_template_columns": null,
            "grid_template_rows": null,
            "height": null,
            "justify_content": null,
            "justify_items": null,
            "left": null,
            "margin": null,
            "max_height": null,
            "max_width": null,
            "min_height": null,
            "min_width": null,
            "object_fit": null,
            "object_position": null,
            "order": null,
            "overflow": null,
            "overflow_x": null,
            "overflow_y": null,
            "padding": null,
            "right": null,
            "top": null,
            "visibility": null,
            "width": null
          }
        },
        "e6ba7c2c596344b0b83e176ba504b8a9": {
          "model_module": "@jupyter-widgets/base",
          "model_module_version": "1.2.0",
          "model_name": "LayoutModel",
          "state": {
            "_model_module": "@jupyter-widgets/base",
            "_model_module_version": "1.2.0",
            "_model_name": "LayoutModel",
            "_view_count": null,
            "_view_module": "@jupyter-widgets/base",
            "_view_module_version": "1.2.0",
            "_view_name": "LayoutView",
            "align_content": null,
            "align_items": null,
            "align_self": null,
            "border": null,
            "bottom": null,
            "display": null,
            "flex": null,
            "flex_flow": null,
            "grid_area": null,
            "grid_auto_columns": null,
            "grid_auto_flow": null,
            "grid_auto_rows": null,
            "grid_column": null,
            "grid_gap": null,
            "grid_row": null,
            "grid_template_areas": null,
            "grid_template_columns": null,
            "grid_template_rows": null,
            "height": null,
            "justify_content": null,
            "justify_items": null,
            "left": null,
            "margin": null,
            "max_height": null,
            "max_width": null,
            "min_height": null,
            "min_width": null,
            "object_fit": null,
            "object_position": null,
            "order": null,
            "overflow": null,
            "overflow_x": null,
            "overflow_y": null,
            "padding": null,
            "right": null,
            "top": null,
            "visibility": null,
            "width": null
          }
        }
      }
    }
  },
  "nbformat": 4,
  "nbformat_minor": 5
}
