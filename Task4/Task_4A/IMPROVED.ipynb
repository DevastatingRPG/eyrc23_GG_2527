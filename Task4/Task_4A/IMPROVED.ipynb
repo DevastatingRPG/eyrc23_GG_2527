{
 "cells": [
  {
   "cell_type": "code",
   "execution_count": 1,
   "id": "64d011ea",
   "metadata": {},
   "outputs": [],
   "source": [
    "from pathlib import Path\n",
    "\n",
    "data_path = Path(\"data/\")\n",
    "image_path = data_path / \"events\"\n",
    "train_dir = image_path / \"train_scaled\"\n",
    "test_dir = image_path / \"test_scaled\"\n",
    "\n",
    "train_dir, test_dir\n",
    "output_dir = 'output'"
   ]
  },
  {
   "cell_type": "code",
   "execution_count": 2,
   "id": "06b176d7",
   "metadata": {},
   "outputs": [],
   "source": [
    "\n",
    "import torch\n",
    "torch.manual_seed(42)\n",
    "torch.cuda.manual_seed(42)"
   ]
  },
  {
   "cell_type": "code",
   "execution_count": 3,
   "id": "1e1c7cfe",
   "metadata": {},
   "outputs": [],
   "source": [
    "if torch.cuda.is_available(): \n",
    "    dev = \"cuda:0\" \n",
    "else: \n",
    "    dev = \"cpu\" \n",
    "device = torch.device(dev)"
   ]
  },
  {
   "cell_type": "code",
   "execution_count": null,
   "metadata": {},
   "outputs": [],
   "source": []
  },
  {
   "cell_type": "code",
   "execution_count": 4,
   "metadata": {},
   "outputs": [],
   "source": [
    "import matplotlib.pyplot as plt\n",
    "import torch\n",
    "\n",
    "from torch import nn\n",
    "from torchvision import transforms\n",
    "\n",
    "from torchvision.models import EfficientNet_V2_S_Weights, efficientnet_v2_s\n",
    "from torchvision.models import ResNet152_Weights, resnet152\n",
    "\n",
    "weights = EfficientNet_V2_S_Weights.DEFAULT\n",
    "model = efficientnet_v2_s(weights=weights).to(device)\n",
    "# weights = ResNet152_Weights.DEFAULT\n",
    "# model = resnet152(weights=weights).to(device)\n",
    "\n"
   ]
  },
  {
   "cell_type": "code",
   "execution_count": 5,
   "id": "82be5dd9",
   "metadata": {},
   "outputs": [],
   "source": [
    "auto_transforms = weights.transforms()\n",
    "train_transform = transforms.Compose([\n",
    "    transforms.RandomResizedCrop(224),\n",
    "    transforms.RandomHorizontalFlip(),\n",
    "    transforms.ToTensor(),\n",
    "    transforms.Normalize(mean=[0.485, 0.456, 0.406], std=[0.229, 0.224, 0.225]),\n",
    "])\n",
    "\n",
    "val_transform = transforms.Compose([\n",
    "    transforms.Resize(256),\n",
    "    transforms.CenterCrop(224),\n",
    "    transforms.ToTensor(),\n",
    "    transforms.Normalize(mean=[0.485, 0.456, 0.406], std=[0.229, 0.224, 0.225]),\n",
    "])"
   ]
  },
  {
   "cell_type": "code",
   "execution_count": 6,
   "id": "77ae1e0f",
   "metadata": {},
   "outputs": [],
   "source": [
    "from torchvision import datasets\n",
    "train_data = datasets.ImageFolder(root=train_dir, # target folder of images\n",
    "                                  transform=auto_transforms, # transforms to perform on data (images)\n",
    "                                  target_transform=None) # transforms to perform on labels (if necessary)\n",
    "test_data = datasets.ImageFolder(root=test_dir, \n",
    "                                 transform=auto_transforms)\n",
    "# train_data = datasets.ImageFolder(root=train_dir, # target folder of images\n",
    "#                                   transform=train_transform, # transforms to perform on data (images)\n",
    "#                                   target_transform=None) # transforms to perform on labels (if necessary)\n",
    "# test_data = datasets.ImageFolder(root=test_dir, \n",
    "#                                  transform=val_transform)\n"
   ]
  },
  {
   "cell_type": "code",
   "execution_count": 7,
   "id": "e2b56870",
   "metadata": {},
   "outputs": [
    {
     "data": {
      "text/plain": [
       "['Combat',\n",
       " 'DestroyedBuildings',\n",
       " 'Fire',\n",
       " 'Humanitarian Aid and rehabilitation',\n",
       " 'Military vehicles and weapons']"
      ]
     },
     "execution_count": 7,
     "metadata": {},
     "output_type": "execute_result"
    }
   ],
   "source": [
    "\n",
    "class_names = train_data.classes\n",
    "class_names"
   ]
  },
  {
   "cell_type": "code",
   "execution_count": 8,
   "id": "35364600",
   "metadata": {},
   "outputs": [],
   "source": [
    "from torch.utils.data import DataLoader\n",
    "train_dataloader = DataLoader(dataset=train_data, batch_size=32, shuffle=True)\n",
    "test_dataloader = DataLoader(dataset=test_data, batch_size=32,shuffle=False)"
   ]
  },
  {
   "cell_type": "code",
   "execution_count": 9,
   "id": "ff224bbf",
   "metadata": {},
   "outputs": [],
   "source": [
    "# Get the length of class_names (one output unit for each class)\n",
    "output_shape = len(class_names)\n",
    "# torch.autograd.set_detect_anomaly(True)\n",
    "# Recreate the classifier layer and seed it to the target device\n",
    "\n",
    "model.classifier = torch.nn.Sequential(\n",
    "    nn.Dropout(p=0.2, inplace=True),\n",
    "    nn.Linear(in_features=1280, out_features=output_shape, bias=True),\n",
    "    # nn.ReLU6(),   \n",
    ").to(device)"
   ]
  },
  {
   "cell_type": "code",
   "execution_count": 10,
   "id": "03aae9a6",
   "metadata": {},
   "outputs": [],
   "source": [
    "from torch import nn\n",
    "loss_fn = nn.CrossEntropyLoss(label_smoothing=0.1) # this is also called \"criterion\"/\"cost function\" in some places\n",
    "# optimizer = torch.optim.RMSprop(params=model.parameters(), lr=0.01)\n",
    "optimizer = torch.optim.SGD(model.parameters(), lr=0.005, momentum=0.9)"
   ]
  },
  {
   "cell_type": "code",
   "execution_count": 11,
   "metadata": {},
   "outputs": [],
   "source": [
    "torch.cuda.set_device(0)"
   ]
  },
  {
   "cell_type": "code",
   "execution_count": 12,
   "metadata": {},
   "outputs": [
    {
     "data": {
      "text/plain": [
       "True"
      ]
     },
     "execution_count": 12,
     "metadata": {},
     "output_type": "execute_result"
    }
   ],
   "source": [
    "next(model.parameters()).is_cuda"
   ]
  },
  {
   "cell_type": "code",
   "execution_count": 13,
   "id": "27349936",
   "metadata": {},
   "outputs": [
    {
     "name": "stdout",
     "output_type": "stream",
     "text": [
      "[INFO] Couldn't find going_modular scripts... downloading them from GitHub.\n"
     ]
    },
    {
     "name": "stderr",
     "output_type": "stream",
     "text": [
      "Cloning into 'pytorch-deep-learning'...\n",
      "Updating files:  43% (109/248)\n",
      "Updating files:  44% (110/248)\n",
      "Updating files:  45% (112/248)\n",
      "Updating files:  46% (115/248)\n",
      "Updating files:  47% (117/248)\n",
      "Updating files:  48% (120/248)\n",
      "Updating files:  49% (122/248)\n",
      "Updating files:  50% (124/248)\n",
      "Updating files:  51% (127/248)\n",
      "Updating files:  52% (129/248)\n",
      "Updating files:  53% (132/248)\n",
      "Updating files:  54% (134/248)\n",
      "Updating files:  55% (137/248)\n",
      "Updating files:  56% (139/248)\n",
      "Updating files:  57% (142/248)\n",
      "Updating files:  58% (144/248)\n",
      "Updating files:  59% (147/248)\n",
      "Updating files:  60% (149/248)\n",
      "Updating files:  61% (152/248)\n",
      "Updating files:  62% (154/248)\n",
      "Updating files:  63% (157/248)\n",
      "Updating files:  64% (159/248)\n",
      "Updating files:  65% (162/248)\n",
      "Updating files:  66% (164/248)\n",
      "Updating files:  67% (167/248)\n",
      "Updating files:  68% (169/248)\n",
      "Updating files:  69% (172/248)\n",
      "Updating files:  70% (174/248)\n",
      "Updating files:  71% (177/248)\n",
      "Updating files:  71% (178/248)\n",
      "Updating files:  72% (179/248)\n",
      "Updating files:  73% (182/248)\n",
      "Updating files:  74% (184/248)\n",
      "Updating files:  75% (186/248)\n",
      "Updating files:  76% (189/248)\n",
      "Updating files:  77% (191/248)\n",
      "Updating files:  78% (194/248)\n",
      "Updating files:  79% (196/248)\n",
      "Updating files:  80% (199/248)\n",
      "Updating files:  81% (201/248)\n",
      "Updating files:  82% (204/248)\n",
      "Updating files:  83% (206/248)\n",
      "Updating files:  84% (209/248)\n",
      "Updating files:  85% (211/248)\n",
      "Updating files:  86% (214/248)\n",
      "Updating files:  87% (216/248)\n",
      "Updating files:  88% (219/248)\n",
      "Updating files:  89% (221/248)\n",
      "Updating files:  90% (224/248)\n",
      "Updating files:  91% (226/248)\n",
      "Updating files:  92% (229/248)\n",
      "Updating files:  93% (231/248)\n",
      "Updating files:  94% (234/248)\n",
      "Updating files:  95% (236/248)\n",
      "Updating files:  96% (239/248)\n",
      "Updating files:  97% (241/248)\n",
      "Updating files:  98% (244/248)\n",
      "Updating files:  99% (246/248)\n",
      "Updating files: 100% (248/248)\n",
      "Updating files: 100% (248/248), done.\n"
     ]
    },
    {
     "name": "stdout",
     "output_type": "stream",
     "text": [
      "        1 dir(s) moved.\n"
     ]
    },
    {
     "ename": "TypeError",
     "evalue": "train() got an unexpected keyword argument 'save_path'",
     "output_type": "error",
     "traceback": [
      "\u001b[1;31m---------------------------------------------------------------------------\u001b[0m",
      "\u001b[1;31mTypeError\u001b[0m                                 Traceback (most recent call last)",
      "Cell \u001b[1;32mIn[13], line 17\u001b[0m\n\u001b[0;32m     14\u001b[0m start_time \u001b[38;5;241m=\u001b[39m timer()\n\u001b[0;32m     16\u001b[0m \u001b[38;5;66;03m# Setup training and save the results\u001b[39;00m\n\u001b[1;32m---> 17\u001b[0m results \u001b[38;5;241m=\u001b[39m \u001b[43mengine\u001b[49m\u001b[38;5;241;43m.\u001b[39;49m\u001b[43mtrain\u001b[49m\u001b[43m(\u001b[49m\u001b[43mmodel\u001b[49m\u001b[38;5;241;43m=\u001b[39;49m\u001b[43mmodel\u001b[49m\u001b[43m,\u001b[49m\n\u001b[0;32m     18\u001b[0m \u001b[43m                       \u001b[49m\u001b[43mtrain_dataloader\u001b[49m\u001b[38;5;241;43m=\u001b[39;49m\u001b[43mtrain_dataloader\u001b[49m\u001b[43m,\u001b[49m\n\u001b[0;32m     19\u001b[0m \u001b[43m                       \u001b[49m\u001b[43mtest_dataloader\u001b[49m\u001b[38;5;241;43m=\u001b[39;49m\u001b[43mtest_dataloader\u001b[49m\u001b[43m,\u001b[49m\n\u001b[0;32m     20\u001b[0m \u001b[43m                       \u001b[49m\u001b[43moptimizer\u001b[49m\u001b[38;5;241;43m=\u001b[39;49m\u001b[43moptimizer\u001b[49m\u001b[43m,\u001b[49m\n\u001b[0;32m     21\u001b[0m \u001b[43m                       \u001b[49m\u001b[43mloss_fn\u001b[49m\u001b[38;5;241;43m=\u001b[39;49m\u001b[43mloss_fn\u001b[49m\u001b[43m,\u001b[49m\n\u001b[0;32m     22\u001b[0m \u001b[43m                       \u001b[49m\u001b[43mepochs\u001b[49m\u001b[38;5;241;43m=\u001b[39;49m\u001b[38;5;241;43m25\u001b[39;49m\u001b[43m,\u001b[49m\n\u001b[0;32m     23\u001b[0m \u001b[43m                       \u001b[49m\u001b[43mdevice\u001b[49m\u001b[38;5;241;43m=\u001b[39;49m\u001b[43mdevice\u001b[49m\u001b[43m,\u001b[49m\n\u001b[0;32m     24\u001b[0m \u001b[43m                       \u001b[49m\u001b[43msave_path\u001b[49m\u001b[38;5;241;43m=\u001b[39;49m\u001b[38;5;124;43m'\u001b[39;49m\u001b[38;5;124;43mbest.tf\u001b[39;49m\u001b[38;5;124;43m'\u001b[39;49m\u001b[43m)\u001b[49m\n\u001b[0;32m     26\u001b[0m \u001b[38;5;66;03m# End the timer and print out how long it took\u001b[39;00m\n\u001b[0;32m     27\u001b[0m end_time \u001b[38;5;241m=\u001b[39m timer()\n",
      "\u001b[1;31mTypeError\u001b[0m: train() got an unexpected keyword argument 'save_path'"
     ]
    }
   ],
   "source": [
    "# Set the random seeds\n",
    "try:\n",
    "    from going_modular.going_modular import engine\n",
    "except:\n",
    "    # Get the going_modular scripts\n",
    "    print(\"[INFO] Couldn't find going_modular scripts... downloading them from GitHub.\")\n",
    "    !git clone https://github.com/mrdbourke/pytorch-deep-learning\n",
    "    !move pytorch-deep-learning\\going_modular .\n",
    "    !rmdir /s /q pytorch-deep-learning\n",
    "    from going_modular.going_modular import engine\n",
    "\n",
    "# Start the timer\n",
    "from timeit import default_timer as timer \n",
    "start_time = timer()\n",
    "\n",
    "# Setup training and save the results\n",
    "results = engine.train(model=model,\n",
    "                       train_dataloader=train_dataloader,\n",
    "                       test_dataloader=test_dataloader,\n",
    "                       optimizer=optimizer,\n",
    "                       loss_fn=loss_fn,\n",
    "                       epochs=25,\n",
    "                       device=device)\n",
    "\n",
    "# End the timer and print out how long it took\n",
    "end_time = timer()\n",
    "print(f\"[INFO] Total training time: {end_time-start_time:.3f} seconds\")\n"
   ]
  },
  {
   "cell_type": "code",
   "execution_count": null,
   "id": "833edaa7",
   "metadata": {},
   "outputs": [],
   "source": [
    "torch.save(model, 'model.tf')\n",
    "torch.save(model.state_dict(), 'weights.tf')"
   ]
  }
 ],
 "metadata": {
  "kernelspec": {
   "display_name": "GG_2527",
   "language": "python",
   "name": "gg_2527"
  },
  "language_info": {
   "codemirror_mode": {
    "name": "ipython",
    "version": 3
   },
   "file_extension": ".py",
   "mimetype": "text/x-python",
   "name": "python",
   "nbconvert_exporter": "python",
   "pygments_lexer": "ipython3",
   "version": "3.9.18"
  }
 },
 "nbformat": 4,
 "nbformat_minor": 5
}
