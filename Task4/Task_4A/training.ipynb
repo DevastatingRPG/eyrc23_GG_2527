{
  "cells": [
    {
      "cell_type": "code",
      "execution_count": 1,
      "id": "64d011ea",
      "metadata": {
        "id": "64d011ea"
      },
      "outputs": [],
      "source": [
        "from pathlib import Path\n",
        "import torch\n",
        "import matplotlib.pyplot as plt\n",
        "import torch\n",
        "\n",
        "from torch import nn\n",
        "from torch.optim.lr_scheduler import StepLR, ReduceLROnPlateau\n",
        "from torchvision import transforms\n",
        "\n",
        "from torchvision.models import EfficientNet_V2_S_Weights, efficientnet_v2_s\n",
        "from torchvision.models import resnet50, ResNet50_Weights\n",
        "from torchvision.models import inception_v3, Inception_V3_Weights\n",
        "\n",
        "from torchvision import datasets\n",
        "\n",
        "from torch.utils.data import DataLoader\n",
        "\n",
        "from torch import nn\n",
        "from timeit import default_timer as timer\n",
        "\n",
        "from going_modular.going_modular import engine"
      ]
    },
    {
      "cell_type": "code",
      "execution_count": 2,
      "id": "cc0379e0",
      "metadata": {},
      "outputs": [],
      "source": [
        "lr1 = 0.01\n",
        "lr2 = 0.001\n",
        "step_size = 10\n",
        "patience = 3\n"
      ]
    },
    {
      "cell_type": "code",
      "execution_count": 3,
      "id": "ec50067b",
      "metadata": {},
      "outputs": [],
      "source": [
        "data_path = Path(\"data/\")\n",
        "image_path = data_path / \"events\"\n",
        "train_dir = image_path / \"train\"\n",
        "test_dir = image_path / \"test\"\n",
        "\n",
        "train_dir, test_dir\n",
        "output_dir = 'output'"
      ]
    },
    {
      "cell_type": "code",
      "execution_count": null,
      "id": "89ebc35a",
      "metadata": {},
      "outputs": [],
      "source": []
    },
    {
      "cell_type": "code",
      "execution_count": 4,
      "id": "06b176d7",
      "metadata": {
        "id": "06b176d7"
      },
      "outputs": [],
      "source": [
        "\n",
        "torch.cuda.empty_cache()\n",
        "torch.manual_seed(42)\n",
        "torch.cuda.manual_seed(42)\n",
        "device = torch.device(\"cuda:0\")"
      ]
    },
    {
      "cell_type": "code",
      "execution_count": 5,
      "id": "kPX4ZXfwyUoN",
      "metadata": {
        "id": "kPX4ZXfwyUoN"
      },
      "outputs": [],
      "source": [
        "weights = EfficientNet_V2_S_Weights.DEFAULT\n",
        "model = efficientnet_v2_s(weights=weights).to(device)\n",
        "\n",
        "# weights = ResNet50_Weights.DEFAULT\n",
        "# model =resnet50(weights=weights).to(device)\n",
        "\n",
        "# weights = Inception_V3_Weights.DEFAULT\n",
        "# model = inception_v3(weights=weights).to(device)"
      ]
    },
    {
      "cell_type": "code",
      "execution_count": 6,
      "id": "8b418dc7",
      "metadata": {},
      "outputs": [
        {
          "data": {
            "text/plain": [
              "ImageClassification(\n",
              "    crop_size=[384]\n",
              "    resize_size=[384]\n",
              "    mean=[0.485, 0.456, 0.406]\n",
              "    std=[0.229, 0.224, 0.225]\n",
              "    interpolation=InterpolationMode.BILINEAR\n",
              ")"
            ]
          },
          "execution_count": 6,
          "metadata": {},
          "output_type": "execute_result"
        }
      ],
      "source": [
        "weights.transforms()"
      ]
    },
    {
      "cell_type": "code",
      "execution_count": 7,
      "id": "82be5dd9",
      "metadata": {
        "id": "82be5dd9"
      },
      "outputs": [],
      "source": [
        "auto_transforms = weights.transforms()\n",
        "transform = transforms.Compose([\n",
        "    transforms.ToTensor(),\n",
        "    # transforms.RandomResizedCrop(224),\n",
        "    transforms.RandomHorizontalFlip(),\n",
        "    transforms.RandomVerticalFlip(),\n",
        "    # transforms.Resize(112),  # Downscale\n",
        "    # transforms.Resize(224),\n",
        "    # transforms.RandomRotation(20),\n",
        "    # transforms.ColorJitter(brightness=0.1, contrast=0.1, saturation=0.1, hue=0.1),\n",
        "    # transforms.CenterCrop(224), \n",
        "    transforms.Normalize(mean=[0.485, 0.456, 0.406], std=[0.229, 0.224, 0.225]),\n",
        "])"
      ]
    },
    {
      "cell_type": "code",
      "execution_count": 8,
      "id": "77ae1e0f",
      "metadata": {
        "id": "77ae1e0f"
      },
      "outputs": [],
      "source": [
        "# train_data = datasets.ImageFolder(root=train_dir, # target folder of images\n",
        "#                                   transform=auto_transforms, # transforms to perform on data (images)\n",
        "#                                   target_transform=None) # transforms to perform on labels (if necessary)\n",
        "\n",
        "train_data = datasets.ImageFolder(root=train_dir, # target folder of images\n",
        "                                  transform=transform, # transforms to perform on data (images)\n",
        "                                  target_transform=None) # transforms to perform on labels (if necessary)\n",
        "\n",
        "test_data = datasets.ImageFolder(root=test_dir,\n",
        "                                 transform=auto_transforms)\n"
      ]
    },
    {
      "cell_type": "code",
      "execution_count": 9,
      "id": "e2b56870",
      "metadata": {
        "colab": {
          "base_uri": "https://localhost:8080/"
        },
        "id": "e2b56870",
        "outputId": "e490ab8b-d9e5-456b-8bd5-6c7701ad0604"
      },
      "outputs": [
        {
          "data": {
            "text/plain": [
              "['Combat',\n",
              " 'DestroyedBuildings',\n",
              " 'Fire',\n",
              " 'Humanitarian Aid and rehabilitation',\n",
              " 'Military vehicles and weapons']"
            ]
          },
          "execution_count": 9,
          "metadata": {},
          "output_type": "execute_result"
        }
      ],
      "source": [
        "\n",
        "class_names = train_data.classes\n",
        "class_names"
      ]
    },
    {
      "cell_type": "code",
      "execution_count": 10,
      "id": "35364600",
      "metadata": {
        "id": "35364600"
      },
      "outputs": [],
      "source": [
        "train_dataloader = DataLoader(dataset=train_data, batch_size=32, shuffle=True)\n",
        "test_dataloader = DataLoader(dataset=test_data, batch_size=32,shuffle=False)"
      ]
    },
    {
      "cell_type": "code",
      "execution_count": 11,
      "id": "ff224bbf",
      "metadata": {
        "id": "ff224bbf"
      },
      "outputs": [],
      "source": [
        "# Get the length of class_names (one output unit for each class)\n",
        "output_shape = len(class_names)\n",
        "# Recreate the classifier layer and seed it to the target device\n",
        "\n",
        "model.classifier = torch.nn.Sequential(\n",
        "    nn.Dropout(p=0.1, inplace=True),\n",
        "    nn.Linear(in_features=1280, out_features=output_shape, bias=True),\n",
        ").to(device)"
      ]
    },
    {
      "cell_type": "code",
      "execution_count": 12,
      "id": "03aae9a6",
      "metadata": {
        "id": "03aae9a6"
      },
      "outputs": [],
      "source": [
        "loss_fn = nn.CrossEntropyLoss(label_smoothing=0.1) # this is also called \"criterion\"/\"cost function\" in some places\n",
        "optimizer = torch.optim.SGD(model.parameters(), lr=lr1, momentum=0.9, weight_decay=0.01)\n",
        "# optimizer = torch.optim.Adam(model.parameters(), lr=0.01)\n",
        "scheduler = StepLR(optimizer, step_size=step_size, gamma=0.1)\n",
        "# warmup_scheduler = WarmupLR(scheduler, warmup_factor=0.1, warmup_iters=10, warmup_method=\"linear\")\n"
      ]
    },
    {
      "cell_type": "code",
      "execution_count": 13,
      "id": "CrKNnl8eyUoP",
      "metadata": {
        "id": "CrKNnl8eyUoP"
      },
      "outputs": [],
      "source": [
        "torch.cuda.set_device(0)"
      ]
    },
    {
      "cell_type": "code",
      "execution_count": 14,
      "id": "c4Y_Q5LGyUoP",
      "metadata": {
        "colab": {
          "base_uri": "https://localhost:8080/"
        },
        "id": "c4Y_Q5LGyUoP",
        "outputId": "b2683a4c-23e2-4f97-cf32-6d593faa1301"
      },
      "outputs": [
        {
          "data": {
            "text/plain": [
              "True"
            ]
          },
          "execution_count": 14,
          "metadata": {},
          "output_type": "execute_result"
        }
      ],
      "source": [
        "next(model.parameters()).is_cuda"
      ]
    },
    {
      "cell_type": "code",
      "execution_count": 15,
      "id": "5375fd8c",
      "metadata": {},
      "outputs": [],
      "source": [
        "for layer in model.features.parameters():\n",
        "    layer.requires_grad = False\n",
        "\n",
        "# for layer in model.parameters():\n",
        "#     layer.requires_grad = True\n"
      ]
    },
    {
      "cell_type": "code",
      "execution_count": 16,
      "id": "27349936",
      "metadata": {
        "colab": {
          "base_uri": "https://localhost:8080/",
          "height": 327,
          "referenced_widgets": [
            "7838560f403046c2b78acab1aab34dc5",
            "0b4547a237fc4caca229a9909f0cf7ec",
            "f2b5dff3e91e4545b31dded96999f777",
            "bb79aca8a0da45b7a1872ae9e8718a3c",
            "6acc2bdec87841cabae92c5b1d41adc8",
            "12f21f0fcbe044e88ce4d7f0b429c2a5",
            "d7008d8b9cdb466b928f3ef29d7161f8",
            "d0c446d467444a95b14d6f52cf429cb6",
            "47a52182627a46598d008ddbece287b4",
            "af68289ed9b34c39a82215ea63fefd5a",
            "43c796d7b37d4d2085fdafd6c6d74b3c"
          ]
        },
        "id": "27349936",
        "outputId": "55cf5a16-a709-4380-b994-e4503b4e7206"
      },
      "outputs": [
        {
          "data": {
            "application/vnd.jupyter.widget-view+json": {
              "model_id": "3156e1963332477cac3275e6540b846e",
              "version_major": 2,
              "version_minor": 0
            },
            "text/plain": [
              "  0%|          | 0/50 [00:00<?, ?it/s]"
            ]
          },
          "metadata": {},
          "output_type": "display_data"
        },
        {
          "name": "stderr",
          "output_type": "stream",
          "text": [
            "b:\\Softwares\\anaconda3\\envs\\GG_2527\\lib\\site-packages\\torchvision\\transforms\\functional.py:1603: UserWarning: The default value of the antialias parameter of all the resizing transforms (Resize(), RandomResizedCrop(), etc.) will change from None to True in v0.17, in order to be consistent across the PIL and Tensor backends. To suppress this warning, directly pass antialias=True (recommended, future default), antialias=None (current default, which means False for Tensors and True for PIL), or antialias=False (only works on Tensors - PIL will still use antialiasing). This also applies if you are using the inference transforms from the models weights: update the call to weights.transforms(antialias=True).\n",
            "  warnings.warn(\n"
          ]
        },
        {
          "name": "stdout",
          "output_type": "stream",
          "text": [
            "Epoch: 1 | train_loss: 1.4612 | train_acc: 0.4375 | test_loss: 1.0924 | test_acc: 0.9271\n",
            "Epoch: 2 | train_loss: 0.9149 | train_acc: 0.8500 | test_loss: 0.6149 | test_acc: 0.9583\n",
            "Epoch: 3 | train_loss: 0.7509 | train_acc: 0.8594 | test_loss: 0.5761 | test_acc: 0.9271\n",
            "Epoch: 4 | train_loss: 0.6661 | train_acc: 0.8906 | test_loss: 0.5646 | test_acc: 0.9479\n",
            "Epoch: 5 | train_loss: 0.6429 | train_acc: 0.9031 | test_loss: 0.5742 | test_acc: 0.8958\n",
            "Epoch: 6 | train_loss: 0.6362 | train_acc: 0.9187 | test_loss: 0.5719 | test_acc: 0.8958\n",
            "Epoch: 7 | train_loss: 0.6354 | train_acc: 0.9094 | test_loss: 0.5635 | test_acc: 0.9167\n",
            "Epoch: 8 | train_loss: 0.6284 | train_acc: 0.9031 | test_loss: 0.5639 | test_acc: 0.9167\n",
            "Epoch: 9 | train_loss: 0.6166 | train_acc: 0.9156 | test_loss: 0.5422 | test_acc: 0.9688\n",
            "Epoch: 10 | train_loss: 0.6188 | train_acc: 0.9094 | test_loss: 0.5483 | test_acc: 0.9479\n",
            "Epoch: 11 | train_loss: 0.6052 | train_acc: 0.9219 | test_loss: 0.5434 | test_acc: 0.9688\n",
            "Epoch: 12 | train_loss: 0.6058 | train_acc: 0.9281 | test_loss: 0.5386 | test_acc: 0.9583\n",
            "Epoch: 13 | train_loss: 0.6149 | train_acc: 0.9062 | test_loss: 0.5390 | test_acc: 0.9688\n",
            "Epoch: 14 | train_loss: 0.6164 | train_acc: 0.9031 | test_loss: 0.5314 | test_acc: 0.9688\n",
            "Epoch: 15 | train_loss: 0.6200 | train_acc: 0.9125 | test_loss: 0.5367 | test_acc: 0.9688\n",
            "Epoch: 16 | train_loss: 0.6003 | train_acc: 0.9250 | test_loss: 0.5431 | test_acc: 0.9583\n",
            "Early stopping...\n",
            "[INFO] Total training time: 178.721 seconds\n"
          ]
        }
      ],
      "source": [
        "# Set the random seeds\n",
        "\n",
        "\n",
        "# Start the timer\n",
        "start_time = timer()\n",
        "\n",
        "# Setup training and save the results\n",
        "results = engine.train(model=model,\n",
        "                       train_dataloader=train_dataloader,\n",
        "                       test_dataloader=test_dataloader,\n",
        "                       optimizer=optimizer,\n",
        "                       scheduler=scheduler,\n",
        "                       loss_fn=loss_fn,\n",
        "                       epochs=50,\n",
        "                       device=device,\n",
        "                       patience=patience)\n",
        "\n",
        "# End the timer and print out how long it took\n",
        "end_time = timer()\n",
        "print(f\"[INFO] Total training time: {end_time-start_time:.3f} seconds\")\n"
      ]
    },
    {
      "cell_type": "code",
      "execution_count": 17,
      "id": "4110c7e3",
      "metadata": {},
      "outputs": [],
      "source": [
        "# for layer in model.features.parameters():\n",
        "#     layer.requires_grad = True\n",
        "\n",
        "\n",
        "for layer in model.parameters():\n",
        "    layer.requires_grad = True"
      ]
    },
    {
      "cell_type": "code",
      "execution_count": 18,
      "id": "9ff8a82e",
      "metadata": {},
      "outputs": [],
      "source": [
        "optimizer = torch.optim.SGD(model.parameters(), lr=lr2, momentum=0.9)\n",
        "scheduler = StepLR(optimizer, step_size=step_size, gamma=0.1)\n",
        "patience = 3"
      ]
    },
    {
      "cell_type": "code",
      "execution_count": 19,
      "id": "c8a8a268",
      "metadata": {},
      "outputs": [
        {
          "data": {
            "application/vnd.jupyter.widget-view+json": {
              "model_id": "21ffaef0aed542789fedb05556594e61",
              "version_major": 2,
              "version_minor": 0
            },
            "text/plain": [
              "  0%|          | 0/15 [00:00<?, ?it/s]"
            ]
          },
          "metadata": {},
          "output_type": "display_data"
        },
        {
          "name": "stdout",
          "output_type": "stream",
          "text": [
            "Epoch: 1 | train_loss: 0.5936 | train_acc: 0.9187 | test_loss: 0.5324 | test_acc: 0.9583\n",
            "Epoch: 2 | train_loss: 0.5924 | train_acc: 0.9250 | test_loss: 0.5319 | test_acc: 0.9583\n",
            "Epoch: 3 | train_loss: 0.5951 | train_acc: 0.9156 | test_loss: 0.5320 | test_acc: 0.9688\n",
            "Epoch: 4 | train_loss: 0.5756 | train_acc: 0.9437 | test_loss: 0.5262 | test_acc: 0.9688\n",
            "Epoch: 5 | train_loss: 0.5466 | train_acc: 0.9531 | test_loss: 0.5270 | test_acc: 0.9479\n",
            "Epoch: 6 | train_loss: 0.5720 | train_acc: 0.9375 | test_loss: 0.5261 | test_acc: 0.9479\n",
            "Epoch: 7 | train_loss: 0.5932 | train_acc: 0.9156 | test_loss: 0.5299 | test_acc: 0.9583\n",
            "Epoch: 8 | train_loss: 0.5312 | train_acc: 0.9719 | test_loss: 0.5262 | test_acc: 0.9688\n",
            "Epoch: 9 | train_loss: 0.5256 | train_acc: 0.9719 | test_loss: 0.5207 | test_acc: 0.9792\n",
            "Epoch: 10 | train_loss: 0.5482 | train_acc: 0.9500 | test_loss: 0.5142 | test_acc: 0.9688\n",
            "Epoch: 11 | train_loss: 0.5443 | train_acc: 0.9469 | test_loss: 0.5228 | test_acc: 0.9688\n",
            "Epoch: 12 | train_loss: 0.5261 | train_acc: 0.9563 | test_loss: 0.5181 | test_acc: 0.9688\n",
            "Early stopping...\n",
            "[INFO] Total training time: 542.672 seconds\n"
          ]
        }
      ],
      "source": [
        "start_time = timer()\n",
        "\n",
        "# Setup training and save the results\n",
        "results = engine.train(model=model,\n",
        "                       train_dataloader=train_dataloader,\n",
        "                       test_dataloader=test_dataloader,\n",
        "                       optimizer=optimizer,\n",
        "                       scheduler=scheduler,\n",
        "                       loss_fn=loss_fn,\n",
        "                       epochs=15,\n",
        "                       device=device,\n",
        "                       patience=patience)\n",
        "\n",
        "# End the timer and print out how long it took\n",
        "end_time = timer()\n",
        "print(f\"[INFO] Total training time: {end_time-start_time:.3f} seconds\")\n"
      ]
    },
    {
      "cell_type": "code",
      "execution_count": 20,
      "id": "833edaa7",
      "metadata": {
        "id": "833edaa7"
      },
      "outputs": [],
      "source": [
        "torch.save(model.state_dict(), 'w.tf')"
      ]
    },
    {
      "cell_type": "code",
      "execution_count": 21,
      "id": "7b454776",
      "metadata": {},
      "outputs": [],
      "source": [
        "# model_res = resnet50().to(device)\n",
        "# model_res.classifier = torch.nn.Sequential(\n",
        "#     nn.Dropout(p=0.2, inplace=True),\n",
        "#     nn.Linear(in_features=1280, out_features=5, bias=True),\n",
        "# ).to(device)\n",
        "# model_res.load_state_dict(torch.load('resnet.tf'))\n",
        "# model_res.eval()"
      ]
    },
    {
      "cell_type": "code",
      "execution_count": 22,
      "id": "23d8833c",
      "metadata": {},
      "outputs": [],
      "source": [
        "# weights_eff = EfficientNet_V2_S_Weights.DEFAULT\n",
        "# model_eff = efficientnet_v2_s().to(device)\n",
        "# model_eff.classifier = torch.nn.Sequential(\n",
        "#     nn.Dropout(p=0.2, inplace=True),\n",
        "#     nn.Linear(in_features=1280, out_features=5, bias=True),\n",
        "# ).to(device)\n",
        "# model_eff.load_state_dict(torch.load('weights_copy.tf'))\n",
        "# model_eff.eval()"
      ]
    },
    {
      "cell_type": "code",
      "execution_count": 23,
      "id": "db9574e4",
      "metadata": {},
      "outputs": [],
      "source": [
        "# class EnsembleModel(nn.Module):   \n",
        "#     def __init__(self, modelA, modelB):\n",
        "#         super().__init__()\n",
        "#         self.modelA = modelA\n",
        "#         self.modelB = modelB\n",
        "#         self.classifier = nn.Linear(1005, 200)\n",
        "        \n",
        "#     def forward(self, x):\n",
        "#         x1 = self.modelA(x)\n",
        "#         x2 = self.modelB(x)\n",
        "#         x = torch.cat((x1, x2), dim=1)\n",
        "#         out = self.classifier(x)\n",
        "#         return out\n",
        "    \n",
        "# ensemble_model = EnsembleModel(model_eff, model_res)"
      ]
    },
    {
      "cell_type": "code",
      "execution_count": 24,
      "id": "8dcc47ab",
      "metadata": {},
      "outputs": [],
      "source": [
        "# import numpy as np\n",
        "\n",
        "# start_time = timer()\n",
        "\n",
        "# # Setup training and save the results\n",
        "# ensemble_training_results =  engine.train(model=ensemble_model,\n",
        "#                        train_dataloader=train_dataloader,\n",
        "#                        test_dataloader=test_dataloader,\n",
        "#                        optimizer=optimizer,\n",
        "#                        scheduler=scheduler,\n",
        "#                        loss_fn=loss_fn,\n",
        "#                        epochs=50,\n",
        "#                        device=device,\n",
        "#                        patience=3)\n",
        "\n",
        "# # End the timer and print out how long it took\n",
        "# end_time = timer()\n",
        "# print(f\"[INFO] Total training time: {end_time-start_time:.3f} seconds\")"
      ]
    }
  ],
  "metadata": {
    "accelerator": "GPU",
    "colab": {
      "gpuType": "T4",
      "provenance": []
    },
    "kernelspec": {
      "display_name": "GG_2527",
      "language": "python",
      "name": "gg_2527"
    },
    "language_info": {
      "codemirror_mode": {
        "name": "ipython",
        "version": 3
      },
      "file_extension": ".py",
      "mimetype": "text/x-python",
      "name": "python",
      "nbconvert_exporter": "python",
      "pygments_lexer": "ipython3",
      "version": "3.9.18"
    },
    "widgets": {
      "application/vnd.jupyter.widget-state+json": {
        "0b4547a237fc4caca229a9909f0cf7ec": {
          "model_module": "@jupyter-widgets/controls",
          "model_module_version": "1.5.0",
          "model_name": "HTMLModel",
          "state": {
            "_dom_classes": [],
            "_model_module": "@jupyter-widgets/controls",
            "_model_module_version": "1.5.0",
            "_model_name": "HTMLModel",
            "_view_count": null,
            "_view_module": "@jupyter-widgets/controls",
            "_view_module_version": "1.5.0",
            "_view_name": "HTMLView",
            "description": "",
            "description_tooltip": null,
            "layout": "IPY_MODEL_12f21f0fcbe044e88ce4d7f0b429c2a5",
            "placeholder": "​",
            "style": "IPY_MODEL_d7008d8b9cdb466b928f3ef29d7161f8",
            "value": "100%"
          }
        },
        "12f21f0fcbe044e88ce4d7f0b429c2a5": {
          "model_module": "@jupyter-widgets/base",
          "model_module_version": "1.2.0",
          "model_name": "LayoutModel",
          "state": {
            "_model_module": "@jupyter-widgets/base",
            "_model_module_version": "1.2.0",
            "_model_name": "LayoutModel",
            "_view_count": null,
            "_view_module": "@jupyter-widgets/base",
            "_view_module_version": "1.2.0",
            "_view_name": "LayoutView",
            "align_content": null,
            "align_items": null,
            "align_self": null,
            "border": null,
            "bottom": null,
            "display": null,
            "flex": null,
            "flex_flow": null,
            "grid_area": null,
            "grid_auto_columns": null,
            "grid_auto_flow": null,
            "grid_auto_rows": null,
            "grid_column": null,
            "grid_gap": null,
            "grid_row": null,
            "grid_template_areas": null,
            "grid_template_columns": null,
            "grid_template_rows": null,
            "height": null,
            "justify_content": null,
            "justify_items": null,
            "left": null,
            "margin": null,
            "max_height": null,
            "max_width": null,
            "min_height": null,
            "min_width": null,
            "object_fit": null,
            "object_position": null,
            "order": null,
            "overflow": null,
            "overflow_x": null,
            "overflow_y": null,
            "padding": null,
            "right": null,
            "top": null,
            "visibility": null,
            "width": null
          }
        },
        "43c796d7b37d4d2085fdafd6c6d74b3c": {
          "model_module": "@jupyter-widgets/controls",
          "model_module_version": "1.5.0",
          "model_name": "DescriptionStyleModel",
          "state": {
            "_model_module": "@jupyter-widgets/controls",
            "_model_module_version": "1.5.0",
            "_model_name": "DescriptionStyleModel",
            "_view_count": null,
            "_view_module": "@jupyter-widgets/base",
            "_view_module_version": "1.2.0",
            "_view_name": "StyleView",
            "description_width": ""
          }
        },
        "47a52182627a46598d008ddbece287b4": {
          "model_module": "@jupyter-widgets/controls",
          "model_module_version": "1.5.0",
          "model_name": "ProgressStyleModel",
          "state": {
            "_model_module": "@jupyter-widgets/controls",
            "_model_module_version": "1.5.0",
            "_model_name": "ProgressStyleModel",
            "_view_count": null,
            "_view_module": "@jupyter-widgets/base",
            "_view_module_version": "1.2.0",
            "_view_name": "StyleView",
            "bar_color": null,
            "description_width": ""
          }
        },
        "6acc2bdec87841cabae92c5b1d41adc8": {
          "model_module": "@jupyter-widgets/base",
          "model_module_version": "1.2.0",
          "model_name": "LayoutModel",
          "state": {
            "_model_module": "@jupyter-widgets/base",
            "_model_module_version": "1.2.0",
            "_model_name": "LayoutModel",
            "_view_count": null,
            "_view_module": "@jupyter-widgets/base",
            "_view_module_version": "1.2.0",
            "_view_name": "LayoutView",
            "align_content": null,
            "align_items": null,
            "align_self": null,
            "border": null,
            "bottom": null,
            "display": null,
            "flex": null,
            "flex_flow": null,
            "grid_area": null,
            "grid_auto_columns": null,
            "grid_auto_flow": null,
            "grid_auto_rows": null,
            "grid_column": null,
            "grid_gap": null,
            "grid_row": null,
            "grid_template_areas": null,
            "grid_template_columns": null,
            "grid_template_rows": null,
            "height": null,
            "justify_content": null,
            "justify_items": null,
            "left": null,
            "margin": null,
            "max_height": null,
            "max_width": null,
            "min_height": null,
            "min_width": null,
            "object_fit": null,
            "object_position": null,
            "order": null,
            "overflow": null,
            "overflow_x": null,
            "overflow_y": null,
            "padding": null,
            "right": null,
            "top": null,
            "visibility": null,
            "width": null
          }
        },
        "7838560f403046c2b78acab1aab34dc5": {
          "model_module": "@jupyter-widgets/controls",
          "model_module_version": "1.5.0",
          "model_name": "HBoxModel",
          "state": {
            "_dom_classes": [],
            "_model_module": "@jupyter-widgets/controls",
            "_model_module_version": "1.5.0",
            "_model_name": "HBoxModel",
            "_view_count": null,
            "_view_module": "@jupyter-widgets/controls",
            "_view_module_version": "1.5.0",
            "_view_name": "HBoxView",
            "box_style": "",
            "children": [
              "IPY_MODEL_0b4547a237fc4caca229a9909f0cf7ec",
              "IPY_MODEL_f2b5dff3e91e4545b31dded96999f777",
              "IPY_MODEL_bb79aca8a0da45b7a1872ae9e8718a3c"
            ],
            "layout": "IPY_MODEL_6acc2bdec87841cabae92c5b1d41adc8"
          }
        },
        "af68289ed9b34c39a82215ea63fefd5a": {
          "model_module": "@jupyter-widgets/base",
          "model_module_version": "1.2.0",
          "model_name": "LayoutModel",
          "state": {
            "_model_module": "@jupyter-widgets/base",
            "_model_module_version": "1.2.0",
            "_model_name": "LayoutModel",
            "_view_count": null,
            "_view_module": "@jupyter-widgets/base",
            "_view_module_version": "1.2.0",
            "_view_name": "LayoutView",
            "align_content": null,
            "align_items": null,
            "align_self": null,
            "border": null,
            "bottom": null,
            "display": null,
            "flex": null,
            "flex_flow": null,
            "grid_area": null,
            "grid_auto_columns": null,
            "grid_auto_flow": null,
            "grid_auto_rows": null,
            "grid_column": null,
            "grid_gap": null,
            "grid_row": null,
            "grid_template_areas": null,
            "grid_template_columns": null,
            "grid_template_rows": null,
            "height": null,
            "justify_content": null,
            "justify_items": null,
            "left": null,
            "margin": null,
            "max_height": null,
            "max_width": null,
            "min_height": null,
            "min_width": null,
            "object_fit": null,
            "object_position": null,
            "order": null,
            "overflow": null,
            "overflow_x": null,
            "overflow_y": null,
            "padding": null,
            "right": null,
            "top": null,
            "visibility": null,
            "width": null
          }
        },
        "bb79aca8a0da45b7a1872ae9e8718a3c": {
          "model_module": "@jupyter-widgets/controls",
          "model_module_version": "1.5.0",
          "model_name": "HTMLModel",
          "state": {
            "_dom_classes": [],
            "_model_module": "@jupyter-widgets/controls",
            "_model_module_version": "1.5.0",
            "_model_name": "HTMLModel",
            "_view_count": null,
            "_view_module": "@jupyter-widgets/controls",
            "_view_module_version": "1.5.0",
            "_view_name": "HTMLView",
            "description": "",
            "description_tooltip": null,
            "layout": "IPY_MODEL_af68289ed9b34c39a82215ea63fefd5a",
            "placeholder": "​",
            "style": "IPY_MODEL_43c796d7b37d4d2085fdafd6c6d74b3c",
            "value": " 15/15 [03:32&lt;00:00, 14.12s/it]"
          }
        },
        "d0c446d467444a95b14d6f52cf429cb6": {
          "model_module": "@jupyter-widgets/base",
          "model_module_version": "1.2.0",
          "model_name": "LayoutModel",
          "state": {
            "_model_module": "@jupyter-widgets/base",
            "_model_module_version": "1.2.0",
            "_model_name": "LayoutModel",
            "_view_count": null,
            "_view_module": "@jupyter-widgets/base",
            "_view_module_version": "1.2.0",
            "_view_name": "LayoutView",
            "align_content": null,
            "align_items": null,
            "align_self": null,
            "border": null,
            "bottom": null,
            "display": null,
            "flex": null,
            "flex_flow": null,
            "grid_area": null,
            "grid_auto_columns": null,
            "grid_auto_flow": null,
            "grid_auto_rows": null,
            "grid_column": null,
            "grid_gap": null,
            "grid_row": null,
            "grid_template_areas": null,
            "grid_template_columns": null,
            "grid_template_rows": null,
            "height": null,
            "justify_content": null,
            "justify_items": null,
            "left": null,
            "margin": null,
            "max_height": null,
            "max_width": null,
            "min_height": null,
            "min_width": null,
            "object_fit": null,
            "object_position": null,
            "order": null,
            "overflow": null,
            "overflow_x": null,
            "overflow_y": null,
            "padding": null,
            "right": null,
            "top": null,
            "visibility": null,
            "width": null
          }
        },
        "d7008d8b9cdb466b928f3ef29d7161f8": {
          "model_module": "@jupyter-widgets/controls",
          "model_module_version": "1.5.0",
          "model_name": "DescriptionStyleModel",
          "state": {
            "_model_module": "@jupyter-widgets/controls",
            "_model_module_version": "1.5.0",
            "_model_name": "DescriptionStyleModel",
            "_view_count": null,
            "_view_module": "@jupyter-widgets/base",
            "_view_module_version": "1.2.0",
            "_view_name": "StyleView",
            "description_width": ""
          }
        },
        "f2b5dff3e91e4545b31dded96999f777": {
          "model_module": "@jupyter-widgets/controls",
          "model_module_version": "1.5.0",
          "model_name": "FloatProgressModel",
          "state": {
            "_dom_classes": [],
            "_model_module": "@jupyter-widgets/controls",
            "_model_module_version": "1.5.0",
            "_model_name": "FloatProgressModel",
            "_view_count": null,
            "_view_module": "@jupyter-widgets/controls",
            "_view_module_version": "1.5.0",
            "_view_name": "ProgressView",
            "bar_style": "success",
            "description": "",
            "description_tooltip": null,
            "layout": "IPY_MODEL_d0c446d467444a95b14d6f52cf429cb6",
            "max": 15,
            "min": 0,
            "orientation": "horizontal",
            "style": "IPY_MODEL_47a52182627a46598d008ddbece287b4",
            "value": 15
          }
        }
      }
    }
  },
  "nbformat": 4,
  "nbformat_minor": 5
}
