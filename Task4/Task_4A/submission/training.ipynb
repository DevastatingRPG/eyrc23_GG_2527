{
  "cells": [
    {
      "cell_type": "code",
      "execution_count": null,
      "id": "64d011ea",
      "metadata": {
        "id": "64d011ea"
      },
      "outputs": [],
      "source": [
        "from pathlib import Path\n",
        "\n",
        "data_path = Path(\"data/\")\n",
        "image_path = data_path / \"events\"\n",
        "train_dir = image_path / \"train_scaled\"\n",
        "test_dir = image_path / \"test_scaled\"\n",
        "\n",
        "train_dir, test_dir\n",
        "output_dir = 'output'"
      ]
    },
    {
      "cell_type": "code",
      "execution_count": null,
      "id": "06b176d7",
      "metadata": {
        "id": "06b176d7"
      },
      "outputs": [],
      "source": [
        "\n",
        "import torch\n",
        "torch.cuda.empty_cache()\n",
        "torch.manual_seed(42)\n",
        "torch.cuda.manual_seed(42)"
      ]
    },
    {
      "cell_type": "code",
      "execution_count": 2,
      "id": "1e1c7cfe",
      "metadata": {
        "id": "1e1c7cfe"
      },
      "outputs": [],
      "source": [
        "if torch.cuda.is_available():\n",
        "    dev = \"cuda:0\"\n",
        "else:\n",
        "    dev = \"cpu\"\n",
        "device = torch.device(dev)"
      ]
    },
    {
      "cell_type": "code",
      "execution_count": null,
      "id": "X89k-xvjyUoM",
      "metadata": {
        "id": "X89k-xvjyUoM"
      },
      "outputs": [],
      "source": []
    },
    {
      "cell_type": "code",
      "execution_count": 3,
      "id": "kPX4ZXfwyUoN",
      "metadata": {
        "id": "kPX4ZXfwyUoN"
      },
      "outputs": [],
      "source": [
        "import matplotlib.pyplot as plt\n",
        "import torch\n",
        "\n",
        "from torch import nn\n",
        "from torchvision import transforms\n",
        "\n",
        "from torchvision.models import EfficientNet_V2_S_Weights, efficientnet_v2_s\n",
        "\n",
        "weights = EfficientNet_V2_S_Weights.DEFAULT\n",
        "model = efficientnet_v2_s(weights=weights).to(device)"
      ]
    },
    {
      "cell_type": "code",
      "execution_count": 4,
      "id": "82be5dd9",
      "metadata": {
        "id": "82be5dd9"
      },
      "outputs": [],
      "source": [
        "auto_transforms = weights.transforms()"
      ]
    },
    {
      "cell_type": "code",
      "execution_count": null,
      "id": "77ae1e0f",
      "metadata": {
        "id": "77ae1e0f"
      },
      "outputs": [],
      "source": [
        "from torchvision import datasets\n",
        "train_data = datasets.ImageFolder(root=train_dir, # target folder of images\n",
        "                                  transform=auto_transforms, # transforms to perform on data (images)\n",
        "                                  target_transform=None) # transforms to perform on labels (if necessary)\n",
        "test_data = datasets.ImageFolder(root=test_dir,\n",
        "                                 transform=auto_transforms)\n"
      ]
    },
    {
      "cell_type": "code",
      "execution_count": null,
      "id": "e2b56870",
      "metadata": {
        "colab": {
          "base_uri": "https://localhost:8080/"
        },
        "id": "e2b56870",
        "outputId": "e490ab8b-d9e5-456b-8bd5-6c7701ad0604"
      },
      "outputs": [
        {
          "data": {
            "text/plain": [
              "['Combat',\n",
              " 'DestroyedBuildings',\n",
              " 'Fire',\n",
              " 'Humanitarian Aid and rehabilitation',\n",
              " 'Military vehicles and weapons']"
            ]
          },
          "execution_count": 25,
          "metadata": {},
          "output_type": "execute_result"
        }
      ],
      "source": [
        "\n",
        "class_names = train_data.classes\n",
        "class_names"
      ]
    },
    {
      "cell_type": "code",
      "execution_count": null,
      "id": "35364600",
      "metadata": {
        "id": "35364600"
      },
      "outputs": [],
      "source": [
        "from torch.utils.data import DataLoader\n",
        "train_dataloader = DataLoader(dataset=train_data, batch_size=16, shuffle=True)\n",
        "test_dataloader = DataLoader(dataset=test_data, batch_size=16,shuffle=False)"
      ]
    },
    {
      "cell_type": "code",
      "execution_count": null,
      "id": "ff224bbf",
      "metadata": {
        "id": "ff224bbf"
      },
      "outputs": [],
      "source": [
        "# Get the length of class_names (one output unit for each class)\n",
        "output_shape = len(class_names)\n",
        "# Recreate the classifier layer and seed it to the target device\n",
        "\n",
        "model.classifier = torch.nn.Sequential(\n",
        "    nn.Dropout(p=0.2, inplace=True),\n",
        "    nn.Linear(in_features=1280, out_features=output_shape, bias=True),\n",
        ").to(device)"
      ]
    },
    {
      "cell_type": "code",
      "execution_count": null,
      "id": "03aae9a6",
      "metadata": {
        "id": "03aae9a6"
      },
      "outputs": [],
      "source": [
        "from torch import nn\n",
        "loss_fn = nn.CrossEntropyLoss(label_smoothing=0.1) # this is also called \"criterion\"/\"cost function\" in some places\n",
        "optimizer = torch.optim.SGD(model.parameters(), lr=0.005, momentum=0.9)"
      ]
    },
    {
      "cell_type": "code",
      "execution_count": null,
      "id": "CrKNnl8eyUoP",
      "metadata": {
        "id": "CrKNnl8eyUoP"
      },
      "outputs": [],
      "source": [
        "torch.cuda.set_device(0)"
      ]
    },
    {
      "cell_type": "code",
      "execution_count": null,
      "id": "c4Y_Q5LGyUoP",
      "metadata": {
        "colab": {
          "base_uri": "https://localhost:8080/"
        },
        "id": "c4Y_Q5LGyUoP",
        "outputId": "b2683a4c-23e2-4f97-cf32-6d593faa1301"
      },
      "outputs": [
        {
          "data": {
            "text/plain": [
              "True"
            ]
          },
          "execution_count": 30,
          "metadata": {},
          "output_type": "execute_result"
        }
      ],
      "source": [
        "next(model.parameters()).is_cuda"
      ]
    },
    {
      "cell_type": "code",
      "execution_count": null,
      "id": "27349936",
      "metadata": {
        "colab": {
          "base_uri": "https://localhost:8080/",
          "height": 327,
          "referenced_widgets": [
            "7838560f403046c2b78acab1aab34dc5",
            "0b4547a237fc4caca229a9909f0cf7ec",
            "f2b5dff3e91e4545b31dded96999f777",
            "bb79aca8a0da45b7a1872ae9e8718a3c",
            "6acc2bdec87841cabae92c5b1d41adc8",
            "12f21f0fcbe044e88ce4d7f0b429c2a5",
            "d7008d8b9cdb466b928f3ef29d7161f8",
            "d0c446d467444a95b14d6f52cf429cb6",
            "47a52182627a46598d008ddbece287b4",
            "af68289ed9b34c39a82215ea63fefd5a",
            "43c796d7b37d4d2085fdafd6c6d74b3c"
          ]
        },
        "id": "27349936",
        "outputId": "55cf5a16-a709-4380-b994-e4503b4e7206"
      },
      "outputs": [
        {
          "data": {
            "application/vnd.jupyter.widget-view+json": {
              "model_id": "7838560f403046c2b78acab1aab34dc5",
              "version_major": 2,
              "version_minor": 0
            },
            "text/plain": [
              "  0%|          | 0/15 [00:00<?, ?it/s]"
            ]
          },
          "metadata": {},
          "output_type": "display_data"
        },
        {
          "name": "stdout",
          "output_type": "stream",
          "text": [
            "Epoch: 1 | train_loss: 1.4064 | train_acc: 0.5062 | test_loss: 1.0437 | test_acc: 0.8625\n",
            "Epoch: 2 | train_loss: 0.7421 | train_acc: 0.8781 | test_loss: 0.5772 | test_acc: 0.9375\n",
            "Epoch: 3 | train_loss: 0.5056 | train_acc: 0.9781 | test_loss: 0.5388 | test_acc: 0.9250\n",
            "Epoch: 4 | train_loss: 0.4776 | train_acc: 0.9750 | test_loss: 0.5137 | test_acc: 0.9625\n",
            "Epoch: 5 | train_loss: 0.4496 | train_acc: 0.9938 | test_loss: 0.4985 | test_acc: 0.9625\n",
            "Epoch: 6 | train_loss: 0.4573 | train_acc: 0.9812 | test_loss: 0.5094 | test_acc: 0.9625\n",
            "Epoch: 7 | train_loss: 0.4293 | train_acc: 1.0000 | test_loss: 0.5029 | test_acc: 0.9625\n",
            "Epoch: 8 | train_loss: 0.4222 | train_acc: 1.0000 | test_loss: 0.4977 | test_acc: 0.9750\n",
            "Epoch: 9 | train_loss: 0.4306 | train_acc: 0.9969 | test_loss: 0.5107 | test_acc: 0.9500\n",
            "Epoch: 10 | train_loss: 0.4349 | train_acc: 0.9969 | test_loss: 0.4982 | test_acc: 0.9500\n",
            "Epoch: 11 | train_loss: 0.4220 | train_acc: 1.0000 | test_loss: 0.5042 | test_acc: 0.9625\n",
            "Epoch: 12 | train_loss: 0.4209 | train_acc: 1.0000 | test_loss: 0.4941 | test_acc: 0.9875\n",
            "Epoch: 13 | train_loss: 0.4182 | train_acc: 1.0000 | test_loss: 0.4802 | test_acc: 0.9875\n",
            "Epoch: 14 | train_loss: 0.4152 | train_acc: 1.0000 | test_loss: 0.4831 | test_acc: 0.9750\n",
            "Epoch: 15 | train_loss: 0.4261 | train_acc: 0.9938 | test_loss: 0.4879 | test_acc: 0.9500\n",
            "[INFO] Total training time: 212.204 seconds\n"
          ]
        }
      ],
      "source": [
        "# Set the random seeds\n",
        "try:\n",
        "    from going_modular.going_modular import engine\n",
        "except:\n",
        "    # Get the going_modular scripts\n",
        "    print(\"[INFO] Couldn't find going_modular scripts... downloading them from GitHub.\")\n",
        "    !git clone https://github.com/mrdbourke/pytorch-deep-learning\n",
        "    !move pytorch-deep-learning\\going_modular .\n",
        "    !rmdir /s /q pytorch-deep-learning\n",
        "    from going_modular.going_modular import engine\n",
        "\n",
        "# Start the timer\n",
        "from timeit import default_timer as timer\n",
        "start_time = timer()\n",
        "\n",
        "# Setup training and save the results\n",
        "results = engine.train(model=model,\n",
        "                       train_dataloader=train_dataloader,\n",
        "                       test_dataloader=test_dataloader,\n",
        "                       optimizer=optimizer,\n",
        "                       loss_fn=loss_fn,\n",
        "                       epochs=15,\n",
        "                       device=device)\n",
        "\n",
        "# End the timer and print out how long it took\n",
        "end_time = timer()\n",
        "print(f\"[INFO] Total training time: {end_time-start_time:.3f} seconds\")\n"
      ]
    },
    {
      "cell_type": "code",
      "execution_count": null,
      "id": "833edaa7",
      "metadata": {
        "id": "833edaa7"
      },
      "outputs": [],
      "source": [
        "torch.save(model.state_dict(), 'weights.tf')"
      ]
    }
  ],
  "metadata": {
    "accelerator": "GPU",
    "colab": {
      "gpuType": "T4",
      "provenance": []
    },
    "kernelspec": {
      "display_name": "GG_2527",
      "language": "python",
      "name": "gg_2527"
    },
    "language_info": {
      "codemirror_mode": {
        "name": "ipython",
        "version": 3
      },
      "file_extension": ".py",
      "mimetype": "text/x-python",
      "name": "python",
      "nbconvert_exporter": "python",
      "pygments_lexer": "ipython3",
      "version": "3.9.18"
    },
    "widgets": {
      "application/vnd.jupyter.widget-state+json": {
        "0b4547a237fc4caca229a9909f0cf7ec": {
          "model_module": "@jupyter-widgets/controls",
          "model_module_version": "1.5.0",
          "model_name": "HTMLModel",
          "state": {
            "_dom_classes": [],
            "_model_module": "@jupyter-widgets/controls",
            "_model_module_version": "1.5.0",
            "_model_name": "HTMLModel",
            "_view_count": null,
            "_view_module": "@jupyter-widgets/controls",
            "_view_module_version": "1.5.0",
            "_view_name": "HTMLView",
            "description": "",
            "description_tooltip": null,
            "layout": "IPY_MODEL_12f21f0fcbe044e88ce4d7f0b429c2a5",
            "placeholder": "​",
            "style": "IPY_MODEL_d7008d8b9cdb466b928f3ef29d7161f8",
            "value": "100%"
          }
        },
        "12f21f0fcbe044e88ce4d7f0b429c2a5": {
          "model_module": "@jupyter-widgets/base",
          "model_module_version": "1.2.0",
          "model_name": "LayoutModel",
          "state": {
            "_model_module": "@jupyter-widgets/base",
            "_model_module_version": "1.2.0",
            "_model_name": "LayoutModel",
            "_view_count": null,
            "_view_module": "@jupyter-widgets/base",
            "_view_module_version": "1.2.0",
            "_view_name": "LayoutView",
            "align_content": null,
            "align_items": null,
            "align_self": null,
            "border": null,
            "bottom": null,
            "display": null,
            "flex": null,
            "flex_flow": null,
            "grid_area": null,
            "grid_auto_columns": null,
            "grid_auto_flow": null,
            "grid_auto_rows": null,
            "grid_column": null,
            "grid_gap": null,
            "grid_row": null,
            "grid_template_areas": null,
            "grid_template_columns": null,
            "grid_template_rows": null,
            "height": null,
            "justify_content": null,
            "justify_items": null,
            "left": null,
            "margin": null,
            "max_height": null,
            "max_width": null,
            "min_height": null,
            "min_width": null,
            "object_fit": null,
            "object_position": null,
            "order": null,
            "overflow": null,
            "overflow_x": null,
            "overflow_y": null,
            "padding": null,
            "right": null,
            "top": null,
            "visibility": null,
            "width": null
          }
        },
        "43c796d7b37d4d2085fdafd6c6d74b3c": {
          "model_module": "@jupyter-widgets/controls",
          "model_module_version": "1.5.0",
          "model_name": "DescriptionStyleModel",
          "state": {
            "_model_module": "@jupyter-widgets/controls",
            "_model_module_version": "1.5.0",
            "_model_name": "DescriptionStyleModel",
            "_view_count": null,
            "_view_module": "@jupyter-widgets/base",
            "_view_module_version": "1.2.0",
            "_view_name": "StyleView",
            "description_width": ""
          }
        },
        "47a52182627a46598d008ddbece287b4": {
          "model_module": "@jupyter-widgets/controls",
          "model_module_version": "1.5.0",
          "model_name": "ProgressStyleModel",
          "state": {
            "_model_module": "@jupyter-widgets/controls",
            "_model_module_version": "1.5.0",
            "_model_name": "ProgressStyleModel",
            "_view_count": null,
            "_view_module": "@jupyter-widgets/base",
            "_view_module_version": "1.2.0",
            "_view_name": "StyleView",
            "bar_color": null,
            "description_width": ""
          }
        },
        "6acc2bdec87841cabae92c5b1d41adc8": {
          "model_module": "@jupyter-widgets/base",
          "model_module_version": "1.2.0",
          "model_name": "LayoutModel",
          "state": {
            "_model_module": "@jupyter-widgets/base",
            "_model_module_version": "1.2.0",
            "_model_name": "LayoutModel",
            "_view_count": null,
            "_view_module": "@jupyter-widgets/base",
            "_view_module_version": "1.2.0",
            "_view_name": "LayoutView",
            "align_content": null,
            "align_items": null,
            "align_self": null,
            "border": null,
            "bottom": null,
            "display": null,
            "flex": null,
            "flex_flow": null,
            "grid_area": null,
            "grid_auto_columns": null,
            "grid_auto_flow": null,
            "grid_auto_rows": null,
            "grid_column": null,
            "grid_gap": null,
            "grid_row": null,
            "grid_template_areas": null,
            "grid_template_columns": null,
            "grid_template_rows": null,
            "height": null,
            "justify_content": null,
            "justify_items": null,
            "left": null,
            "margin": null,
            "max_height": null,
            "max_width": null,
            "min_height": null,
            "min_width": null,
            "object_fit": null,
            "object_position": null,
            "order": null,
            "overflow": null,
            "overflow_x": null,
            "overflow_y": null,
            "padding": null,
            "right": null,
            "top": null,
            "visibility": null,
            "width": null
          }
        },
        "7838560f403046c2b78acab1aab34dc5": {
          "model_module": "@jupyter-widgets/controls",
          "model_module_version": "1.5.0",
          "model_name": "HBoxModel",
          "state": {
            "_dom_classes": [],
            "_model_module": "@jupyter-widgets/controls",
            "_model_module_version": "1.5.0",
            "_model_name": "HBoxModel",
            "_view_count": null,
            "_view_module": "@jupyter-widgets/controls",
            "_view_module_version": "1.5.0",
            "_view_name": "HBoxView",
            "box_style": "",
            "children": [
              "IPY_MODEL_0b4547a237fc4caca229a9909f0cf7ec",
              "IPY_MODEL_f2b5dff3e91e4545b31dded96999f777",
              "IPY_MODEL_bb79aca8a0da45b7a1872ae9e8718a3c"
            ],
            "layout": "IPY_MODEL_6acc2bdec87841cabae92c5b1d41adc8"
          }
        },
        "af68289ed9b34c39a82215ea63fefd5a": {
          "model_module": "@jupyter-widgets/base",
          "model_module_version": "1.2.0",
          "model_name": "LayoutModel",
          "state": {
            "_model_module": "@jupyter-widgets/base",
            "_model_module_version": "1.2.0",
            "_model_name": "LayoutModel",
            "_view_count": null,
            "_view_module": "@jupyter-widgets/base",
            "_view_module_version": "1.2.0",
            "_view_name": "LayoutView",
            "align_content": null,
            "align_items": null,
            "align_self": null,
            "border": null,
            "bottom": null,
            "display": null,
            "flex": null,
            "flex_flow": null,
            "grid_area": null,
            "grid_auto_columns": null,
            "grid_auto_flow": null,
            "grid_auto_rows": null,
            "grid_column": null,
            "grid_gap": null,
            "grid_row": null,
            "grid_template_areas": null,
            "grid_template_columns": null,
            "grid_template_rows": null,
            "height": null,
            "justify_content": null,
            "justify_items": null,
            "left": null,
            "margin": null,
            "max_height": null,
            "max_width": null,
            "min_height": null,
            "min_width": null,
            "object_fit": null,
            "object_position": null,
            "order": null,
            "overflow": null,
            "overflow_x": null,
            "overflow_y": null,
            "padding": null,
            "right": null,
            "top": null,
            "visibility": null,
            "width": null
          }
        },
        "bb79aca8a0da45b7a1872ae9e8718a3c": {
          "model_module": "@jupyter-widgets/controls",
          "model_module_version": "1.5.0",
          "model_name": "HTMLModel",
          "state": {
            "_dom_classes": [],
            "_model_module": "@jupyter-widgets/controls",
            "_model_module_version": "1.5.0",
            "_model_name": "HTMLModel",
            "_view_count": null,
            "_view_module": "@jupyter-widgets/controls",
            "_view_module_version": "1.5.0",
            "_view_name": "HTMLView",
            "description": "",
            "description_tooltip": null,
            "layout": "IPY_MODEL_af68289ed9b34c39a82215ea63fefd5a",
            "placeholder": "​",
            "style": "IPY_MODEL_43c796d7b37d4d2085fdafd6c6d74b3c",
            "value": " 15/15 [03:32&lt;00:00, 14.12s/it]"
          }
        },
        "d0c446d467444a95b14d6f52cf429cb6": {
          "model_module": "@jupyter-widgets/base",
          "model_module_version": "1.2.0",
          "model_name": "LayoutModel",
          "state": {
            "_model_module": "@jupyter-widgets/base",
            "_model_module_version": "1.2.0",
            "_model_name": "LayoutModel",
            "_view_count": null,
            "_view_module": "@jupyter-widgets/base",
            "_view_module_version": "1.2.0",
            "_view_name": "LayoutView",
            "align_content": null,
            "align_items": null,
            "align_self": null,
            "border": null,
            "bottom": null,
            "display": null,
            "flex": null,
            "flex_flow": null,
            "grid_area": null,
            "grid_auto_columns": null,
            "grid_auto_flow": null,
            "grid_auto_rows": null,
            "grid_column": null,
            "grid_gap": null,
            "grid_row": null,
            "grid_template_areas": null,
            "grid_template_columns": null,
            "grid_template_rows": null,
            "height": null,
            "justify_content": null,
            "justify_items": null,
            "left": null,
            "margin": null,
            "max_height": null,
            "max_width": null,
            "min_height": null,
            "min_width": null,
            "object_fit": null,
            "object_position": null,
            "order": null,
            "overflow": null,
            "overflow_x": null,
            "overflow_y": null,
            "padding": null,
            "right": null,
            "top": null,
            "visibility": null,
            "width": null
          }
        },
        "d7008d8b9cdb466b928f3ef29d7161f8": {
          "model_module": "@jupyter-widgets/controls",
          "model_module_version": "1.5.0",
          "model_name": "DescriptionStyleModel",
          "state": {
            "_model_module": "@jupyter-widgets/controls",
            "_model_module_version": "1.5.0",
            "_model_name": "DescriptionStyleModel",
            "_view_count": null,
            "_view_module": "@jupyter-widgets/base",
            "_view_module_version": "1.2.0",
            "_view_name": "StyleView",
            "description_width": ""
          }
        },
        "f2b5dff3e91e4545b31dded96999f777": {
          "model_module": "@jupyter-widgets/controls",
          "model_module_version": "1.5.0",
          "model_name": "FloatProgressModel",
          "state": {
            "_dom_classes": [],
            "_model_module": "@jupyter-widgets/controls",
            "_model_module_version": "1.5.0",
            "_model_name": "FloatProgressModel",
            "_view_count": null,
            "_view_module": "@jupyter-widgets/controls",
            "_view_module_version": "1.5.0",
            "_view_name": "ProgressView",
            "bar_style": "success",
            "description": "",
            "description_tooltip": null,
            "layout": "IPY_MODEL_d0c446d467444a95b14d6f52cf429cb6",
            "max": 15,
            "min": 0,
            "orientation": "horizontal",
            "style": "IPY_MODEL_47a52182627a46598d008ddbece287b4",
            "value": 15
          }
        }
      }
    }
  },
  "nbformat": 4,
  "nbformat_minor": 5
}
