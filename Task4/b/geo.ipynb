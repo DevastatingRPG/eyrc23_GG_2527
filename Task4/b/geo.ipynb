{
 "cells": [
  {
   "cell_type": "code",
   "execution_count": 1,
   "metadata": {},
   "outputs": [],
   "source": [
    "import os\n",
    "os.environ['KMP_DUPLICATE_LIB_OK'] = 'True'\n",
    "import time\n",
    "import cv2\n",
    "import numpy as np\n",
    "import copy\n",
    "import torch\n",
    "import torch.nn as nn\n",
    "from torchvision import transforms  \n",
    "import imutils     \n",
    "import ctypes\n",
    "from cv2 import aruco \n",
    "import math \n",
    "# import RRDBNet_arch as arch     \n",
    "from torchvision.models import efficientnet_v2_s, EfficientNet_V2_S_Weights"
   ]
  },
  {
   "cell_type": "code",
   "execution_count": null,
   "metadata": {},
   "outputs": [],
   "source": [
    "from task_2a import detect_ArUco_details"
   ]
  },
  {
   "cell_type": "code",
   "execution_count": null,
   "metadata": {},
   "outputs": [],
   "source": [
    "def distance(ar1, ar2):\n",
    "    c1 = ar1[0]\n",
    "    x1 = c1[0], y1 = c1[1]\n",
    "    c2 = ar2[0]\n",
    "    x2 = c2[0], y2 = c2[1]\n",
    "\n",
    "    width = x2-x1\n",
    "    height = y2-y1\n",
    "    dist = math.sqrt(pow(width, 2) + pow(height, 2))\n",
    "    return dist\n",
    "    "
   ]
  },
  {
   "cell_type": "code",
   "execution_count": 2,
   "metadata": {},
   "outputs": [],
   "source": [
    "path = [23, 24, 22, 49, 34, 33, 35, 38, 37, 36, 8, 12, 9, 11, 29, 28, 27, 26, 25, 22, 24, 23]\n",
    "bot_marker = 69"
   ]
  },
  {
   "cell_type": "code",
   "execution_count": null,
   "metadata": {},
   "outputs": [],
   "source": [
    "def locate():\n",
    "    pass"
   ]
  },
  {
   "cell_type": "code",
   "execution_count": 3,
   "metadata": {},
   "outputs": [
    {
     "ename": "",
     "evalue": "",
     "output_type": "error",
     "traceback": [
      "\u001b[1;31mThe Kernel crashed while executing code in the the current cell or a previous cell. Please review the code in the cell(s) to identify a possible cause of the failure. Click <a href='https://aka.ms/vscodeJupyterKernelCrash'>here</a> for more info. View Jupyter <a href='command:jupyter.viewOutput'>log</a> for further details."
     ]
    }
   ],
   "source": [
    "# Get screen size\n",
    "user32 = ctypes.windll.user32\n",
    "screen_width = user32.GetSystemMetrics(0)\n",
    "\n",
    "# Open the camera\n",
    "cap = cv2.VideoCapture(0)\n",
    "\n",
    "# Check if the camera is opened successfully\n",
    "if not cap.isOpened():\n",
    "    print(\"Unable to open the camera\")\n",
    "    exit()\n",
    "\n",
    "# Flag to check if the picture has been taken\n",
    "curr_node = 0\n",
    "# Read and display frames from the camera\n",
    "while curr_node < len(path) - 1:\n",
    "    ret, frame = cap.read()\n",
    "\n",
    "    if not ret:\n",
    "        print(\"Error reading frame from the camera\")\n",
    "        break\n",
    "\n",
    "    # Resize the frame to half of the screen width\n",
    "    new_width = screen_width // 2\n",
    "    new_height = frame.shape[0] * new_width // frame.shape[1]\n",
    "    frame = cv2.resize(frame, (new_width, new_height))\n",
    "\n",
    "    details, corners = detect_ArUco_details(frame)\n",
    "\n",
    "    if distance(details[bot_marker], details[curr_node+1]) < distance(details[bot_marker], details[curr_node]):\n",
    "        curr_node += 1\n",
    "        locate(path[curr_node])\n",
    "\n",
    "    cv2.imshow(\"Live Feed\", frame)\n",
    "\n",
    "    # Move the window to the left\n",
    "    cv2.moveWindow(\"Live Feed\", 0, 0)\n",
    "\n",
    "    # Take a picture after 3 seconds\n",
    "    # time.sleep(3)\n",
    "    # cv2.imwrite('eval.jpg', frame)\n",
    "    picture_taken = True\n",
    "\n",
    "cap.release()\n",
    "cv2.waitKey(0)\n",
    "cv2.destroyAllWindows()"
   ]
  },
  {
   "cell_type": "code",
   "execution_count": null,
   "metadata": {},
   "outputs": [],
   "source": [
    "# import cv2\n",
    "\n",
    "# # Create a video capture object and pass 0 as the argument to access the webcam\n",
    "# cap = cv2.VideoCapture(0)\n",
    "\n",
    "# # Check if the webcam is opened correctly\n",
    "# if not cap.isOpened():\n",
    "#     raise IOError(\"Cannot open webcam\")\n",
    "\n",
    "# # Loop until the user presses the ESC key\n",
    "# while True:\n",
    "#     # Read the current frame from the webcam\n",
    "#     ret, frame = cap.read()\n",
    "\n",
    "#     # Resize the frame to 640x480 pixels\n",
    "#     frame = cv2.resize(frame, (640, 480))\n",
    "\n",
    "#     # Display the frame in a window named 'Webcam'\n",
    "#     cv2.imshow('Webcam', frame)\n",
    "\n",
    "#     # Wait for 10 ms and check if the user pressed the ESC key\n",
    "#     c = cv2.waitKey(10)\n",
    "#     if c == 27:\n",
    "#         break\n",
    "\n",
    "# # Release the video capture object and close the window\n",
    "# cap.release()\n",
    "# cv2.destroyAllWindows()\n"
   ]
  }
 ],
 "metadata": {
  "kernelspec": {
   "display_name": "GG_2527",
   "language": "python",
   "name": "gg_2527"
  },
  "language_info": {
   "codemirror_mode": {
    "name": "ipython",
    "version": 3
   },
   "file_extension": ".py",
   "mimetype": "text/x-python",
   "name": "python",
   "nbconvert_exporter": "python",
   "pygments_lexer": "ipython3",
   "version": "3.9.18"
  }
 },
 "nbformat": 4,
 "nbformat_minor": 2
}
