{
 "cells": [
  {
   "cell_type": "code",
   "execution_count": 488,
   "metadata": {},
   "outputs": [],
   "source": [
    "import cv2\n",
    "import torchvision\n",
    "import torch\n",
    "import torchvision.transforms as transforms\n",
    "import PIL.Image as Image\n",
    "import numpy as np"
   ]
  },
  {
   "cell_type": "code",
   "execution_count": 489,
   "metadata": {},
   "outputs": [],
   "source": [
    "# Load the model\n",
    "model = torch.load('model.pth')"
   ]
  },
  {
   "cell_type": "code",
   "execution_count": 490,
   "metadata": {},
   "outputs": [],
   "source": [
    "# Define the classes\n",
    "classes = ['combat', 'destroyed_buildings', 'fire', 'humanitarinaid', 'militaryvehicles']"
   ]
  },
  {
   "cell_type": "code",
   "execution_count": 491,
   "metadata": {},
   "outputs": [],
   "source": [
    "# Load the image\n",
    "img = cv2.imread('Images/final.jpg')"
   ]
  },
  {
   "cell_type": "code",
   "execution_count": 492,
   "metadata": {},
   "outputs": [],
   "source": [
    "# Define the mean and std\n",
    "mean = [0.485, 0.456, 0.406]\n",
    "std = [0.229, 0.224, 0.225]\n",
    "\n",
    "# Define the image transforms\n",
    "image_transforms = transforms.Compose([\n",
    "    transforms.Resize((224, 224)),\n",
    "    transforms.ToTensor(),\n",
    "    transforms.Normalize(torch.Tensor(mean), torch.Tensor(std))\n",
    "])"
   ]
  },
  {
   "cell_type": "code",
   "execution_count": 493,
   "metadata": {},
   "outputs": [],
   "source": [
    "def classify(model, image_transforms, image, classes):\n",
    "    model = model.eval()\n",
    "    # Move model to the same device as the image tensor\n",
    "    device = next(model.parameters()).device\n",
    "    # Apply transformations and move image to the device\n",
    "    image = image_transforms(image).float().to(device)\n",
    "    image = image.unsqueeze(0)\n",
    "\n",
    "    output = model(image)\n",
    "    _, predicted = torch.max(output.data, 1)\n",
    "\n",
    "    return classes[predicted.item()]"
   ]
  },
  {
   "cell_type": "code",
   "execution_count": 494,
   "metadata": {},
   "outputs": [],
   "source": [
    "def draw_and_measure_boxes(img, threshold_value=200, box_color=(0, 255, 0), box_thickness=2, min_area=10000, max_area=13000):\n",
    "    gray = cv2.cvtColor(img, cv2.COLOR_BGR2GRAY)\n",
    "    thresh = cv2.threshold(gray, threshold_value, 255, cv2.THRESH_BINARY)[1]\n",
    "\n",
    "    contours, hierarchy = cv2.findContours(thresh, cv2.RETR_EXTERNAL, cv2.CHAIN_APPROX_SIMPLE)\n",
    "\n",
    "    bounding_boxes = []\n",
    "    for cntr in contours:\n",
    "        x, y, w, h = cv2.boundingRect(cntr)\n",
    "        area = w * h\n",
    "\n",
    "        if min_area <= area <= max_area:\n",
    "            cv2.rectangle(img, (x, y), (x+w, y+h), box_color, box_thickness)\n",
    "            bounding_boxes.append((x, y, w, h, area))\n",
    "    \n",
    "    for i, box in enumerate(bounding_boxes):\n",
    "        x, y, w, h, area = box\n",
    "        label = classify(model, image_transforms, Image.fromarray(cv2.cvtColor(img[y:y+h, x:x+w], cv2.COLOR_BGR2RGB)), classes)\n",
    "        cv2.putText(img, label, (x + 5, y - 10), cv2.FONT_HERSHEY_SIMPLEX, 0.5, box_color, 1)\n",
    "    return bounding_boxes, img"
   ]
  },
  {
   "cell_type": "code",
   "execution_count": 495,
   "metadata": {},
   "outputs": [],
   "source": [
    "# Define the super-resolution model\n",
    "sr = cv2.dnn_superres.DnnSuperResImpl_create()\n",
    "path = \"EDSR_x2.pb\"\n",
    "sr.readModel(path)\n",
    "sr.setModel(\"edsr\", 2)"
   ]
  },
  {
   "cell_type": "code",
   "execution_count": 496,
   "metadata": {},
   "outputs": [],
   "source": [
    "# Draw and measure the bounding boxes\n",
    "bounding_boxes, img_with_boxes = draw_and_measure_boxes(img)"
   ]
  },
  {
   "cell_type": "code",
   "execution_count": 497,
   "metadata": {},
   "outputs": [],
   "source": [
    "# Display the image with bounding boxes\n",
    "cv2.imshow('Image with Bounding Boxes', img_with_boxes)\n",
    "cv2.waitKey(0)\n",
    "cv2.destroyAllWindows()"
   ]
  }
 ],
 "metadata": {
  "kernelspec": {
   "display_name": "GG_2526",
   "language": "python",
   "name": "python3"
  },
  "language_info": {
   "codemirror_mode": {
    "name": "ipython",
    "version": 3
   },
   "file_extension": ".py",
   "mimetype": "text/x-python",
   "name": "python",
   "nbconvert_exporter": "python",
   "pygments_lexer": "ipython3",
   "version": "3.9.18"
  }
 },
 "nbformat": 4,
 "nbformat_minor": 2
}
