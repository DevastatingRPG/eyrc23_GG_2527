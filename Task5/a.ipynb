{
 "cells": [
  {
   "cell_type": "code",
   "execution_count": 1,
   "metadata": {},
   "outputs": [],
   "source": [
    "import cv2 \n",
    "import csv\n",
    "import numpy as np \n",
    "from cv2 import aruco\n",
    "import math\n",
    "import networkx as nx"
   ]
  },
  {
   "cell_type": "code",
   "execution_count": 2,
   "metadata": {},
   "outputs": [],
   "source": [
    "event_markers = {\n",
    "    'A': 21,\n",
    "    'B': 29,\n",
    "    'C': 30,\n",
    "    'D': 34,\n",
    "    'E': 48\n",
    "}"
   ]
  },
  {
   "cell_type": "code",
   "execution_count": 3,
   "metadata": {},
   "outputs": [],
   "source": [
    "def detect_ArUco_details(image): \n",
    "    ArUco_details_dict = {}\n",
    "    ArUco_corners = {}\n",
    "    \n",
    "    ##############\tADD YOUR CODE HERE\t##############\n",
    "    aruco_dict = aruco.getPredefinedDictionary(aruco.DICT_4X4_250)\n",
    "    arucoParams = aruco.DetectorParameters()\n",
    "    # GrayScale Conversion\n",
    "    gray_image = cv2.cvtColor(image, cv2.COLOR_BGR2GRAY)\n",
    "\n",
    "    # Detect ArUco markers\n",
    "    corners, ids, _ = aruco.detectMarkers(gray_image, aruco_dict, parameters=arucoParams)\n",
    "\n",
    "    if ids is not None:\n",
    "        for i in range(len(ids)):\n",
    "            marker_id = int(ids[i][0])\n",
    "            marker_center = [int(coord) for coord in list(np.mean(corners[i][0], axis=0).astype(int))]\n",
    "\n",
    "            # Store details in dictionaries\n",
    "            ArUco_details_dict[marker_id] = [marker_center, 0]\n",
    "            ArUco_corners[marker_id] = [[int(corner[0]), int(corner[1])] for corner in corners[i][0]]\n",
    "    ##################################################\n",
    "    \n",
    "    return ArUco_details_dict, ArUco_corners "
   ]
  },
  {
   "cell_type": "code",
   "execution_count": 4,
   "metadata": {},
   "outputs": [],
   "source": [
    "def mark_ArUco_image(image,ArUco_details_dict, ArUco_corners):\n",
    "\n",
    "    for ids, details in ArUco_details_dict.items():\n",
    "        center = details[0]\n",
    "\n",
    "        corner = ArUco_corners[int(ids)]\n",
    "\n",
    "        tl_tr_center_x = int((corner[0][0] + corner[1][0]) / 2)\n",
    "        tl_tr_center_y = int((corner[0][1] + corner[1][1]) / 2) \n",
    "\n",
    "        display_offset = int(math.sqrt((tl_tr_center_x - center[0])**2+(tl_tr_center_y - center[1])**2))\n",
    "        cv2.putText(image,str(ids),(center[0]+int(display_offset/2),center[1]),cv2.FONT_HERSHEY_COMPLEX, 1, (0, 0, 255), 2)\n",
    "    return image"
   ]
  },
  {
   "cell_type": "code",
   "execution_count": 5,
   "metadata": {},
   "outputs": [],
   "source": [
    "def sort_labels(identified_labels, targets):\n",
    "    order = ['Fire', 'Destroyed buildings', 'Humanitarian Aid and rehabilitation', 'Military Vehicles', 'Combat']\n",
    "    result = []\n",
    "    for target in targets:\n",
    "        inserted = 0\n",
    "        tpos = order.index(identified_labels[target])\n",
    "        if len(result) != 0:\n",
    "            for ind, key in enumerate(result):\n",
    "                rpos = order.index(identified_labels[key])\n",
    "                if tpos <= rpos:\n",
    "                    result.insert(ind, target)\n",
    "                    inserted = 1\n",
    "                    break\n",
    "        if not inserted:\n",
    "            result.append(target)\n",
    "    return result"
   ]
  },
  {
   "cell_type": "code",
   "execution_count": 6,
   "metadata": {},
   "outputs": [],
   "source": [
    "def distance(ar1, ar2):\n",
    "    c1 = ar1\n",
    "    x1, y1 = c1[0], c1[1]\n",
    "    c2 = ar2\n",
    "    x2, y2 = c2[0], c2[1]\n",
    "\n",
    "    width = x2-x1\n",
    "    height = y2-y1\n",
    "    dist = math.sqrt(pow(width, 2) + pow(height, 2))\n",
    "    return dist"
   ]
  },
  {
   "cell_type": "code",
   "execution_count": 7,
   "metadata": {},
   "outputs": [],
   "source": [
    "def rotate_coordinates(x, y, theta_degrees):\n",
    "    # Convert theta from degrees to radians\n",
    "    theta = math.radians(-theta_degrees)\n",
    "\n",
    "    # Perform the rotation\n",
    "    x_prime = x * math.cos(theta) - y * math.sin(theta)\n",
    "    y_prime = x * math.sin(theta) + y * math.cos(theta)\n",
    "\n",
    "    return x_prime, y_prime"
   ]
  },
  {
   "cell_type": "code",
   "execution_count": 8,
   "metadata": {},
   "outputs": [],
   "source": [
    "def adjust_coordinates(csv_name, theta_degrees):\n",
    "    adjusted_coordinates = {}\n",
    "\n",
    "    with open(csv_name, 'r') as file:\n",
    "        csv_reader = csv.reader(file)\n",
    "        next(csv_reader)\n",
    "        for row in csv_reader:\n",
    "            ar_id, lat, lon = row[0], float(row[1]), float(row[2])\n",
    "            adjusted_lat, adjusted_lon = rotate_coordinates(lat, lon, theta_degrees)\n",
    "            adjusted_coordinates[ar_id] = [adjusted_lat, adjusted_lon]\n",
    "\n",
    "    return adjusted_coordinates"
   ]
  },
  {
   "cell_type": "code",
   "execution_count": 9,
   "metadata": {},
   "outputs": [],
   "source": [
    "def create_graph(coords):\n",
    "    links = (\n",
    "        (23, 24), (24, 22), (22, 49), (49, 50), (50, 51), (51, 52), (52, 53), (53, 54), (54, 48), (48, 47), (47, 46), \n",
    "        (46, 45), (45, 44), (44, 43), (43, 10), (10, 8), (8, 12), (12, 9), (9, 11), (11, 13), (13, 14), (14, 15), \n",
    "        (15, 16), (16, 17), (17, 18), (18, 19), (19, 20), (20, 21), (21, 23),\n",
    "\n",
    "        (22, 25), (25, 26), (26, 27), (27, 28), (28, 29), (29, 11),\n",
    "\n",
    "        (50, 34), (34, 33), (33, 32), (32, 31), (31, 30), (30, 12),\n",
    "\n",
    "        (51, 42), (42, 41), (41, 40), (40, 39), (39, 35), (35, 38), (38, 37), (37, 36), (36, 10), (36, 8),\n",
    "\n",
    "        (19, 27), (19, 28), (19, 32),\n",
    "\n",
    "        (27, 32), (28, 32),\n",
    "\n",
    "        (32, 39), (32, 35)       \n",
    "    )\n",
    "    nodes = [int(coord) for coord in coords.keys()]\n",
    "    init_graph = {node: {} for node in nodes}\n",
    "    for n1, n2 in links:\n",
    "        init_graph[n1][n2] = distance(coords[str(n1)], coords[str(n2)])\n",
    "    graph = nx.Graph()\n",
    "    for link in links:\n",
    "        graph.add_edge(link[0], link[1], weight=init_graph[link[0]][link[1]])\n",
    "    return graph"
   ]
  },
  {
   "cell_type": "code",
   "execution_count": 10,
   "metadata": {},
   "outputs": [],
   "source": [
    "def isNode(node, traversed):\n",
    "    turns = ((23,), (19,), (22,), (27, 28), (11,), (50,), (32,), (12,), (51,), (39, 35), (10, 8))\n",
    "    for turn in turns:\n",
    "        if (node in turn) and turns.index(turn) not in traversed:\n",
    "            traversed.append(turns.index(turn))\n",
    "            return True, traversed\n",
    "    return False, traversed"
   ]
  },
  {
   "cell_type": "code",
   "execution_count": 11,
   "metadata": {},
   "outputs": [],
   "source": [
    "def calculate_angle(coord1, coord2, coord3):\n",
    "    # Calculate the distances between the points\n",
    "    a = math.sqrt((coord2[0] - coord1[0])**2 + (coord2[1] - coord1[1])**2)\n",
    "    b = math.sqrt((coord3[0] - coord2[0])**2 + (coord3[1] - coord2[1])**2)\n",
    "    c = math.sqrt((coord3[0] - coord1[0])**2 + (coord3[1] - coord1[1])**2)\n",
    "\n",
    "    # Apply the law of cosines to find the angle\n",
    "    cos_angle = (a**2 + b**2 - c**2) / (2 * a * b)\n",
    "    angle = math.acos(cos_angle)\n",
    "\n",
    "    # Calculate the cross product\n",
    "    cross_product = (coord2[0] - coord1[0]) * (coord3[1] - coord1[1]) - (coord2[1] - coord1[1]) * (coord3[0] - coord1[0])\n",
    "\n",
    "    # Determine the direction\n",
    "    if cross_product > 0:\n",
    "        # Right\n",
    "        direction = 2\n",
    "    elif cross_product < 0:\n",
    "        # Left\n",
    "        direction = 3\n",
    "    else:\n",
    "        direction = \"C\"\n",
    "\n",
    "    # Convert the angle to degrees\n",
    "    angle = math.degrees(angle)\n",
    "\n",
    "    return angle, direction"
   ]
  },
  {
   "cell_type": "code",
   "execution_count": 12,
   "metadata": {},
   "outputs": [],
   "source": [
    "def event_angle(coord1, coord2):\n",
    "    # coord1 and coord2 are tuples representing (x, y)\n",
    "    x1, y1 = coord1\n",
    "    x2, y2 = coord2\n",
    "\n",
    "    # Calculate the difference between the two points\n",
    "    dx = x2 - x1\n",
    "    dy = y2 - y1\n",
    "\n",
    "    slope1 = dy/dx\n",
    "    slope2 = 0\n",
    "\n",
    "    # Calculate the acute angle between two lines given their slopes\n",
    "    angle = abs(math.atan((slope2 - slope1) / (1 + slope1 * slope2)))\n",
    "\n",
    "    # Convert the angle to degrees\n",
    "    angle_degrees = math.degrees(angle)\n",
    "    if dx < 0 and dy < 0:\n",
    "        side = 'l'\n",
    "    else:\n",
    "        side = 'r'\n",
    "    \n",
    "\n",
    "    return angle_degrees, side"
   ]
  },
  {
   "cell_type": "code",
   "execution_count": 13,
   "metadata": {},
   "outputs": [],
   "source": [
    "# event_angle(details[21][0])"
   ]
  },
  {
   "cell_type": "code",
   "execution_count": 14,
   "metadata": {},
   "outputs": [],
   "source": [
    "def atEvent(bot_marker, event, details):\n",
    "    event = event_markers[event]\n",
    "    angle, dir = event_angle(details[event][0], details[bot_marker][0])\n",
    "    if dir == 'l' and 35 <= angle <= 50 and distance(details[event][0], details[bot_marker][0]) < 150:\n",
    "        return True\n",
    "    else:\n",
    "        return False\n",
    "    "
   ]
  },
  {
   "cell_type": "code",
   "execution_count": 15,
   "metadata": {},
   "outputs": [],
   "source": [
    "def path_gen(graph, events):\n",
    "    \n",
    "    path = [[] for _ in range(len(events)+1)]\n",
    "    curr_node = 23\n",
    "    for ind, event in enumerate(events):\n",
    "        path[ind].extend(nx.shortest_path(graph, curr_node, event_markers[event], weight='weight'))\n",
    "        curr_node = event_markers[event]\n",
    "    path[-1].extend(nx.shortest_path(graph, curr_node, 23, weight='weight'))\n",
    "    return path"
   ]
  },
  {
   "cell_type": "code",
   "execution_count": 16,
   "metadata": {},
   "outputs": [],
   "source": [
    "def draw_shortest_path(img, details, path):\n",
    "    color = (255, 0, 0)\n",
    "    thickness = 2\n",
    "\n",
    "    for i in range(len(path) - 1):\n",
    "        node1 = path[i]\n",
    "        node2 = path[i + 1]\n",
    "\n",
    "        x1, y1 = details[node1][0]\n",
    "        x2, y2 = details[node2][0]\n",
    "\n",
    "        cv2.line(img, (x1, y1), (x2, y2), color, thickness)"
   ]
  },
  {
   "cell_type": "code",
   "execution_count": 17,
   "metadata": {},
   "outputs": [],
   "source": [
    "def command_gen(graph, coords, events):\n",
    "    # 1 is for FORWARD till node detection\n",
    "    # 2 is for RIGHT turn then FORWARD till node detection\n",
    "    # 3 is for LEFT turn then FORWARD till node detection\n",
    "    # 4 is for 180 degree turn then FORWARD till node detection\n",
    "    paths = path_gen(graph, events)\n",
    "    commands = []\n",
    "    buffer = 0\n",
    "    for path in paths:\n",
    "        c = []\n",
    "        traversed = []\n",
    "        if buffer == path[1]:\n",
    "            c.append(4)\n",
    "        else:\n",
    "            c.append(1)\n",
    "        for i in range(0, len(path)):\n",
    "\n",
    "            if path[i]==23 and i==0:\n",
    "                if path[i+1] == 24:\n",
    "                    c.append(1)\n",
    "                else:\n",
    "                    c.append(2)\n",
    "            elif i<len(path)-2:\n",
    "                ang, dir = calculate_angle(coords[str(path[i])], coords[str(path[i+1])], coords[str(path[i+2])])\n",
    "                result, traversed = isNode(path[i+1], traversed)\n",
    "                if 140 >= ang >= 45:\n",
    "                    traversed = []\n",
    "                    c.append(dir)\n",
    "                    if path[i+2] == 32 and path[i+1] == 19:\n",
    "                        c.append(1)\n",
    "                    \n",
    "                if (170 <= ang <= 180) and result:\n",
    "                    c.append(1)\n",
    "            elif path[-1] == 23:\n",
    "                if path[i] == 21:\n",
    "                    c.append(3)\n",
    "                elif path[i] == 24:\n",
    "                    c.append(1)\n",
    "        buffer = path[-2]\n",
    "        commands.append(c)\n",
    "    return commands\n",
    "    \n"
   ]
  },
  {
   "cell_type": "code",
   "execution_count": 18,
   "metadata": {},
   "outputs": [],
   "source": [
    "img = cv2.imread('evalpic.jpg')\n",
    "details, corners = detect_ArUco_details(img)\n",
    "img = mark_ArUco_image(img, details, corners)\n",
    "cv2.imshow('Marked', img)\n",
    "cv2.waitKey(0)\n",
    "cv2.destroyAllWindows()"
   ]
  },
  {
   "cell_type": "code",
   "execution_count": 19,
   "metadata": {},
   "outputs": [],
   "source": [
    "coords = adjust_coordinates('lat_long.csv', -15)\n",
    "graph = create_graph(coords)\n"
   ]
  },
  {
   "cell_type": "code",
   "execution_count": 20,
   "metadata": {},
   "outputs": [
    {
     "name": "stdout",
     "output_type": "stream",
     "text": [
      "[[1, 2], [1, 3, 2], [1, 3, 3], [1, 3, 2, 3, 1]]\n"
     ]
    }
   ],
   "source": [
    "print(command_gen(graph, coords, ['A', 'B', 'C']))"
   ]
  },
  {
   "cell_type": "code",
   "execution_count": 21,
   "metadata": {},
   "outputs": [
    {
     "data": {
      "text/plain": [
       "(144.23711793324358, 3)"
      ]
     },
     "execution_count": 21,
     "metadata": {},
     "output_type": "execute_result"
    }
   ],
   "source": [
    "calculate_angle([coords['35'][0] - 10, coords['35'][1]], coords['35'], coords['48'])"
   ]
  },
  {
   "cell_type": "code",
   "execution_count": 22,
   "metadata": {},
   "outputs": [
    {
     "name": "stdout",
     "output_type": "stream",
     "text": [
      "24\n",
      "21\n"
     ]
    }
   ],
   "source": [
    "for a in graph.adj[23]:\n",
    "    print(a)"
   ]
  },
  {
   "cell_type": "code",
   "execution_count": 23,
   "metadata": {},
   "outputs": [],
   "source": [
    "# atEvent(35, details)\n",
    "for marker in details.keys():\n",
    "    try:\n",
    "        if atEvent(marker, 'C', details):\n",
    "            print(marker)\n",
    "    except ZeroDivisionError:\n",
    "        pass"
   ]
  }
 ],
 "metadata": {
  "kernelspec": {
   "display_name": "GG_2527",
   "language": "python",
   "name": "gg_2527"
  },
  "language_info": {
   "codemirror_mode": {
    "name": "ipython",
    "version": 3
   },
   "file_extension": ".py",
   "mimetype": "text/x-python",
   "name": "python",
   "nbconvert_exporter": "python",
   "pygments_lexer": "ipython3",
   "version": "3.9.18"
  }
 },
 "nbformat": 4,
 "nbformat_minor": 2
}
