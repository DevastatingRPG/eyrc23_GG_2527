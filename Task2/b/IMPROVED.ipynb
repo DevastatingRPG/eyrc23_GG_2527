{
 "cells": [
  {
   "cell_type": "code",
   "execution_count": 16,
   "id": "64d011ea",
   "metadata": {},
   "outputs": [],
   "source": [
    "from pathlib import Path\n",
    "\n",
    "data_path = Path(\"data/\")\n",
    "image_path = data_path / \"events\"\n",
    "train_dir = image_path / \"train_scaled\"\n",
    "test_dir = image_path / \"test_scaled\"\n",
    "\n",
    "train_dir, test_dir\n",
    "output_dir = 'output'"
   ]
  },
  {
   "cell_type": "code",
   "execution_count": 17,
   "id": "06b176d7",
   "metadata": {},
   "outputs": [],
   "source": [
    "\n",
    "import torch\n",
    "torch.manual_seed(42)\n",
    "torch.cuda.manual_seed(42)"
   ]
  },
  {
   "cell_type": "code",
   "execution_count": 18,
   "id": "1e1c7cfe",
   "metadata": {},
   "outputs": [],
   "source": [
    "if torch.cuda.is_available(): \n",
    "    dev = \"cuda:0\" \n",
    "else: \n",
    "    dev = \"cpu\" \n",
    "device = torch.device(dev)"
   ]
  },
  {
   "cell_type": "code",
   "execution_count": null,
   "metadata": {},
   "outputs": [],
   "source": []
  },
  {
   "cell_type": "code",
   "execution_count": 19,
   "metadata": {},
   "outputs": [],
   "source": [
    "import matplotlib.pyplot as plt\n",
    "import torch\n",
    "\n",
    "from torch import nn\n",
    "from torchvision import transforms\n",
    "\n",
    "from torchvision.models import EfficientNet_V2_S_Weights, efficientnet_v2_s\n",
    "from torchvision.models import ResNet152_Weights, resnet152\n",
    "\n",
    "weights = EfficientNet_V2_S_Weights.DEFAULT\n",
    "model = efficientnet_v2_s(weights=weights).to(device)\n",
    "# weights = ResNet152_Weights.DEFAULT\n",
    "# model = resnet152(weights=weights).to(device)\n",
    "\n"
   ]
  },
  {
   "cell_type": "code",
   "execution_count": 20,
   "id": "82be5dd9",
   "metadata": {},
   "outputs": [],
   "source": [
    "auto_transforms = weights.transforms()\n",
    "train_transform = transforms.Compose([\n",
    "    transforms.RandomResizedCrop(224),\n",
    "    transforms.RandomHorizontalFlip(),\n",
    "    transforms.ToTensor(),\n",
    "    transforms.Normalize(mean=[0.485, 0.456, 0.406], std=[0.229, 0.224, 0.225]),\n",
    "])\n",
    "\n",
    "val_transform = transforms.Compose([\n",
    "    transforms.Resize(256),\n",
    "    transforms.CenterCrop(224),\n",
    "    transforms.ToTensor(),\n",
    "    transforms.Normalize(mean=[0.485, 0.456, 0.406], std=[0.229, 0.224, 0.225]),\n",
    "])"
   ]
  },
  {
   "cell_type": "code",
   "execution_count": 21,
   "id": "77ae1e0f",
   "metadata": {},
   "outputs": [],
   "source": [
    "from torchvision import datasets\n",
    "train_data = datasets.ImageFolder(root=train_dir, # target folder of images\n",
    "                                  transform=auto_transforms, # transforms to perform on data (images)\n",
    "                                  target_transform=None) # transforms to perform on labels (if necessary)\n",
    "test_data = datasets.ImageFolder(root=test_dir, \n",
    "                                 transform=auto_transforms)\n",
    "# train_data = datasets.ImageFolder(root=train_dir, # target folder of images\n",
    "#                                   transform=train_transform, # transforms to perform on data (images)\n",
    "#                                   target_transform=None) # transforms to perform on labels (if necessary)\n",
    "# test_data = datasets.ImageFolder(root=test_dir, \n",
    "#                                  transform=val_transform)\n"
   ]
  },
  {
   "cell_type": "code",
   "execution_count": 22,
   "id": "e2b56870",
   "metadata": {},
   "outputs": [
    {
     "data": {
      "text/plain": [
       "['Combat',\n",
       " 'DestroyedBuildings',\n",
       " 'Fire',\n",
       " 'Humanitarian Aid and rehabilitation',\n",
       " 'Military vehicles and weapons']"
      ]
     },
     "execution_count": 22,
     "metadata": {},
     "output_type": "execute_result"
    }
   ],
   "source": [
    "\n",
    "class_names = train_data.classes\n",
    "class_names"
   ]
  },
  {
   "cell_type": "code",
   "execution_count": 23,
   "id": "35364600",
   "metadata": {},
   "outputs": [],
   "source": [
    "from torch.utils.data import DataLoader\n",
    "train_dataloader = DataLoader(dataset=train_data, batch_size=32, shuffle=True)\n",
    "test_dataloader = DataLoader(dataset=test_data, batch_size=32,shuffle=False)"
   ]
  },
  {
   "cell_type": "code",
   "execution_count": 24,
   "id": "aa54d304",
   "metadata": {},
   "outputs": [],
   "source": [
    "# # Freeze all base layers in the \"features\" section of the model (the feature extractor) by setting requires_grad=False\n",
    "for param in model.features.parameters():\n",
    "    param.requires_grad = False\n",
    "\n",
    "# for param in model.parameters():\n",
    "#     param.requires_grad = False"
   ]
  },
  {
   "cell_type": "code",
   "execution_count": 25,
   "id": "ff224bbf",
   "metadata": {},
   "outputs": [],
   "source": [
    "# Get the length of class_names (one output unit for each class)\n",
    "output_shape = len(class_names)\n",
    "# torch.autograd.set_detect_anomaly(True)\n",
    "# Recreate the classifier layer and seed it to the target device\n",
    "\n",
    "model.classifier = torch.nn.Sequential(\n",
    "    nn.Dropout(p=0.2, inplace=True),\n",
    "    nn.Linear(in_features=1280, out_features=output_shape, bias=True),\n",
    "    # nn.ReLU6(),   \n",
    ").to(device)"
   ]
  },
  {
   "cell_type": "code",
   "execution_count": 26,
   "id": "03aae9a6",
   "metadata": {},
   "outputs": [],
   "source": [
    "from torch import nn\n",
    "loss_fn = nn.CrossEntropyLoss(label_smoothing=0.1) # this is also called \"criterion\"/\"cost function\" in some places\n",
    "# optimizer = torch.optim.RMSprop(params=model.parameters(), lr=0.01)\n",
    "optimizer = torch.optim.SGD(model.parameters(), lr=0.005, momentum=0.9)"
   ]
  },
  {
   "cell_type": "code",
   "execution_count": 27,
   "metadata": {},
   "outputs": [],
   "source": [
    "torch.cuda.set_device(0)"
   ]
  },
  {
   "cell_type": "code",
   "execution_count": 28,
   "metadata": {},
   "outputs": [
    {
     "data": {
      "text/plain": [
       "True"
      ]
     },
     "execution_count": 28,
     "metadata": {},
     "output_type": "execute_result"
    }
   ],
   "source": [
    "next(model.parameters()).is_cuda"
   ]
  },
  {
   "cell_type": "code",
   "execution_count": 29,
   "id": "27349936",
   "metadata": {},
   "outputs": [
    {
     "data": {
      "application/vnd.jupyter.widget-view+json": {
       "model_id": "dc14caed5c0c47e884a27186878a8832",
       "version_major": 2,
       "version_minor": 0
      },
      "text/plain": [
       "  0%|          | 0/25 [00:00<?, ?it/s]"
      ]
     },
     "metadata": {},
     "output_type": "display_data"
    },
    {
     "name": "stdout",
     "output_type": "stream",
     "text": [
      "Epoch: 1 | train_loss: 1.5627 | train_acc: 0.3375 | test_loss: 1.3873 | test_acc: 0.7500\n",
      "Epoch: 2 | train_loss: 1.2225 | train_acc: 0.7812 | test_loss: 1.0161 | test_acc: 0.9375\n",
      "Epoch: 3 | train_loss: 0.9217 | train_acc: 0.8938 | test_loss: 0.8161 | test_acc: 0.9167\n",
      "Epoch: 4 | train_loss: 0.7600 | train_acc: 0.9125 | test_loss: 0.7189 | test_acc: 0.9167\n",
      "Epoch: 5 | train_loss: 0.6757 | train_acc: 0.9375 | test_loss: 0.6777 | test_acc: 0.9167\n",
      "Epoch: 6 | train_loss: 0.6601 | train_acc: 0.8969 | test_loss: 0.6443 | test_acc: 0.9375\n",
      "Epoch: 7 | train_loss: 0.6152 | train_acc: 0.9500 | test_loss: 0.6300 | test_acc: 0.9375\n",
      "Epoch: 8 | train_loss: 0.5920 | train_acc: 0.9344 | test_loss: 0.6197 | test_acc: 0.9479\n",
      "Epoch: 9 | train_loss: 0.5879 | train_acc: 0.9531 | test_loss: 0.6110 | test_acc: 0.9271\n",
      "Epoch: 10 | train_loss: 0.5781 | train_acc: 0.9500 | test_loss: 0.5984 | test_acc: 0.9375\n",
      "Epoch: 11 | train_loss: 0.5640 | train_acc: 0.9437 | test_loss: 0.5969 | test_acc: 0.9375\n",
      "Epoch: 12 | train_loss: 0.5614 | train_acc: 0.9469 | test_loss: 0.5884 | test_acc: 0.9479\n",
      "Epoch: 13 | train_loss: 0.5447 | train_acc: 0.9563 | test_loss: 0.5876 | test_acc: 0.9479\n",
      "Epoch: 14 | train_loss: 0.5456 | train_acc: 0.9656 | test_loss: 0.5896 | test_acc: 0.9479\n",
      "Epoch: 15 | train_loss: 0.5504 | train_acc: 0.9625 | test_loss: 0.5808 | test_acc: 0.9479\n",
      "Epoch: 16 | train_loss: 0.5434 | train_acc: 0.9594 | test_loss: 0.5855 | test_acc: 0.9479\n",
      "Epoch: 17 | train_loss: 0.5442 | train_acc: 0.9563 | test_loss: 0.5791 | test_acc: 0.9479\n",
      "Epoch: 18 | train_loss: 0.5286 | train_acc: 0.9625 | test_loss: 0.5793 | test_acc: 0.9479\n",
      "Epoch: 19 | train_loss: 0.5327 | train_acc: 0.9531 | test_loss: 0.5789 | test_acc: 0.9479\n",
      "Epoch: 20 | train_loss: 0.5269 | train_acc: 0.9625 | test_loss: 0.5766 | test_acc: 0.9479\n",
      "Epoch: 21 | train_loss: 0.5172 | train_acc: 0.9656 | test_loss: 0.5781 | test_acc: 0.9479\n",
      "Epoch: 22 | train_loss: 0.5167 | train_acc: 0.9719 | test_loss: 0.5711 | test_acc: 0.9479\n",
      "Epoch: 23 | train_loss: 0.5077 | train_acc: 0.9688 | test_loss: 0.5706 | test_acc: 0.9479\n",
      "Epoch: 24 | train_loss: 0.5205 | train_acc: 0.9719 | test_loss: 0.5721 | test_acc: 0.9479\n",
      "Epoch: 25 | train_loss: 0.5286 | train_acc: 0.9563 | test_loss: 0.5721 | test_acc: 0.9479\n",
      "[INFO] Total training time: 260.080 seconds\n"
     ]
    }
   ],
   "source": [
    "# Set the random seeds\n",
    "try:\n",
    "    from going_modular.going_modular import engine\n",
    "except:\n",
    "    # Get the going_modular scripts\n",
    "    print(\"[INFO] Couldn't find going_modular scripts... downloading them from GitHub.\")\n",
    "    !git clone https://github.com/mrdbourke/pytorch-deep-learning\n",
    "    !move pytorch-deep-learning\\going_modular .\n",
    "    !rmdir /s /q pytorch-deep-learning\n",
    "    from going_modular.going_modular import engine\n",
    "\n",
    "# Start the timer\n",
    "from timeit import default_timer as timer \n",
    "start_time = timer()\n",
    "\n",
    "# Setup training and save the results\n",
    "results = engine.train(model=model,\n",
    "                       train_dataloader=train_dataloader,\n",
    "                       test_dataloader=test_dataloader,\n",
    "                       optimizer=optimizer,\n",
    "                       loss_fn=loss_fn,\n",
    "                       epochs=25,\n",
    "                       device=device,\n",
    "                       save_path='best.tf')\n",
    "\n",
    "# End the timer and print out how long it took\n",
    "end_time = timer()\n",
    "print(f\"[INFO] Total training time: {end_time-start_time:.3f} seconds\")\n"
   ]
  },
  {
   "cell_type": "code",
   "execution_count": 30,
   "id": "833edaa7",
   "metadata": {},
   "outputs": [],
   "source": [
    "torch.save(model, 'model.tf')\n",
    "torch.save(model.state_dict(), 'weights.tf')"
   ]
  }
 ],
 "metadata": {
  "kernelspec": {
   "display_name": "GG_2527",
   "language": "python",
   "name": "gg_2527"
  },
  "language_info": {
   "codemirror_mode": {
    "name": "ipython",
    "version": 3
   },
   "file_extension": ".py",
   "mimetype": "text/x-python",
   "name": "python",
   "nbconvert_exporter": "python",
   "pygments_lexer": "ipython3",
   "version": "3.9.18"
  }
 },
 "nbformat": 4,
 "nbformat_minor": 5
}
